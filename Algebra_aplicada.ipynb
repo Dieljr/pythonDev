{
  "cells": [
    {
      "cell_type": "markdown",
      "metadata": {
        "id": "view-in-github",
        "colab_type": "text"
      },
      "source": [
        "<a href=\"https://colab.research.google.com/github/Dieljr/pythonDev/blob/master/Algebra_aplicada.ipynb\" target=\"_parent\"><img src=\"https://colab.research.google.com/assets/colab-badge.svg\" alt=\"Open In Colab\"/></a>"
      ]
    },
    {
      "cell_type": "markdown",
      "id": "2c13de43",
      "metadata": {
        "id": "2c13de43"
      },
      "source": [
        "# STUDYING LINEAR ALGEBRA: INTRO"
      ]
    },
    {
      "cell_type": "code",
      "execution_count": 1,
      "id": "90635e73",
      "metadata": {
        "id": "90635e73"
      },
      "outputs": [],
      "source": [
        "# NECESSARY PACKAGES\n",
        "import numpy as np\n",
        "import pandas as pd\n",
        "\n",
        "from numpy.linalg import det # determinant matrix\n",
        "from numpy.linalg import inv # inverse matrix\n",
        "import numpy.linalg as al # to obtein eigenvalues / eigenvectors\n",
        "\n",
        "import matplotlib as mpl\n",
        "import matplotlib.pyplot as plt\n",
        "%matplotlib inline"
      ]
    },
    {
      "cell_type": "code",
      "execution_count": 2,
      "id": "9184c138",
      "metadata": {
        "colab": {
          "base_uri": "https://localhost:8080/"
        },
        "id": "9184c138",
        "outputId": "c476d33f-0acf-48f2-96a4-78bef54dc0b3"
      },
      "outputs": [
        {
          "output_type": "execute_result",
          "data": {
            "text/plain": [
              "array([[6, 5, 9, 6],\n",
              "       [8, 9, 8, 7],\n",
              "       [9, 9, 8, 6],\n",
              "       [7, 8, 6, 9]])"
            ]
          },
          "metadata": {},
          "execution_count": 2
        }
      ],
      "source": [
        "# CREATING A MATRIX\n",
        "tab = np.array([[6,5,9,6], [8,9,8,7], [9,9,8,6], [7,8,6,9]]); tab"
      ]
    },
    {
      "cell_type": "markdown",
      "id": "b2dea0cc",
      "metadata": {
        "id": "b2dea0cc"
      },
      "source": [
        "## DETERMINANT MATRIX"
      ]
    },
    {
      "cell_type": "code",
      "execution_count": 19,
      "id": "3f78969e",
      "metadata": {
        "colab": {
          "base_uri": "https://localhost:8080/",
          "height": 273
        },
        "id": "3f78969e",
        "outputId": "9f0216fd-402e-497a-9be3-1f486e656bd0"
      },
      "outputs": [
        {
          "output_type": "execute_result",
          "data": {
            "image/png": "[encoded data removed]",
            "text/plain": [
              "<IPython.core.display.Image object>"
            ]
          },
          "metadata": {},
          "execution_count": 19
        }
      ],
      "source": [
        "from IPython.display import Image\n",
        "Image ('https://www.algebrapracticeproblems.com/wp-content/uploads/2021/01/how-to-find-the-determinant-of-a-2x2-matrix.png')\n",
        "# source: https://www.google.com/url?sa=i&url=https%3A%2F%2Fwww.algebrapracticeproblems.com%2Fdeterminant-of-a-2x2-matrix%2F&psig=AOvVaw2iFeXMpB2ht4Xu3NQx-hWL&ust=1645638502772000&source=images&cd=vfe&ved=2ahUKEwj5nq6k75P2AhXyA7kGHQcdDdAQr4kDegUIARCKAg\n"
      ]
    },
    {
      "cell_type": "code",
      "execution_count": 20,
      "id": "1180f53b",
      "metadata": {
        "colab": {
          "base_uri": "https://localhost:8080/"
        },
        "id": "1180f53b",
        "outputId": "d9b0e8f9-c73d-4d2d-a933-a8c185fa3fcb"
      },
      "outputs": [
        {
          "output_type": "execute_result",
          "data": {
            "text/plain": [
              "-146.0000000000001"
            ]
          },
          "metadata": {},
          "execution_count": 20
        }
      ],
      "source": [
        "det(tab)"
      ]
    },
    {
      "cell_type": "code",
      "execution_count": 5,
      "id": "ae4a303d",
      "metadata": {
        "colab": {
          "base_uri": "https://localhost:8080/"
        },
        "id": "ae4a303d",
        "outputId": "c5ff7d70-b7bd-4e09-fb15-996f30d06f99"
      },
      "outputs": [
        {
          "output_type": "stream",
          "name": "stdout",
          "text": [
            "7.5\n",
            "1.6393596310755\n"
          ]
        }
      ],
      "source": [
        "# Particular describe by colunms\n",
        "print(tab[:,0].mean())\n",
        "print(tab[:,1].std())"
      ]
    },
    {
      "cell_type": "code",
      "execution_count": 6,
      "id": "0856fb2b",
      "metadata": {
        "colab": {
          "base_uri": "https://localhost:8080/"
        },
        "id": "0856fb2b",
        "outputId": "2413483d-0df0-4121-86b2-c20255fcfa40"
      },
      "outputs": [
        {
          "output_type": "stream",
          "name": "stdout",
          "text": [
            "6.5\n",
            "8.0\n"
          ]
        }
      ],
      "source": [
        "# Particular describe by rows\n",
        "print(tab[0,:].mean())\n",
        "print(tab[1,:].mean())"
      ]
    },
    {
      "cell_type": "code",
      "execution_count": 7,
      "id": "5487073b",
      "metadata": {
        "colab": {
          "base_uri": "https://localhost:8080/"
        },
        "id": "5487073b",
        "outputId": "22e92914-d198-4bc9-b22e-e6a57fc9ac3a"
      },
      "outputs": [
        {
          "output_type": "execute_result",
          "data": {
            "text/plain": [
              "7.5"
            ]
          },
          "metadata": {},
          "execution_count": 7
        }
      ],
      "source": [
        "# overall mean()\n",
        "tab.mean()"
      ]
    },
    {
      "cell_type": "code",
      "execution_count": 8,
      "id": "9247c553",
      "metadata": {
        "colab": {
          "base_uri": "https://localhost:8080/"
        },
        "id": "9247c553",
        "outputId": "54b2838b-4a67-4add-ef47-b0cc25108277"
      },
      "outputs": [
        {
          "output_type": "execute_result",
          "data": {
            "text/plain": [
              "1.3228756555322954"
            ]
          },
          "metadata": {},
          "execution_count": 8
        }
      ],
      "source": [
        "# Overall std() of rows\n",
        "tab.std()"
      ]
    },
    {
      "cell_type": "markdown",
      "id": "d1676dcb",
      "metadata": {
        "id": "d1676dcb"
      },
      "source": [
        "## EQUATIONS SYSTEM"
      ]
    },
    {
      "cell_type": "code",
      "execution_count": 9,
      "id": "54a34f1a",
      "metadata": {
        "colab": {
          "base_uri": "https://localhost:8080/"
        },
        "id": "54a34f1a",
        "outputId": "8fb61540-d76c-4c31-fcd4-f226de854e19"
      },
      "outputs": [
        {
          "output_type": "stream",
          "name": "stdout",
          "text": [
            "Equations system\n",
            "y - 2x = 5\n",
            "y + 3x = 2\n"
          ]
        }
      ],
      "source": [
        "# creating the simple equation system\n",
        "a = np.array([[4, -2], [4, -4]])\n",
        "b = np.array([5,2])\n",
        "print(\"Equations system\")\n",
        "print('y - 2x = 5')\n",
        "print('y + 3x = 2')"
      ]
    },
    {
      "cell_type": "code",
      "execution_count": 10,
      "id": "25839790",
      "metadata": {
        "colab": {
          "base_uri": "https://localhost:8080/"
        },
        "id": "25839790",
        "outputId": "d462f5e0-3666-4f97-873a-5a0e1c01a6de"
      },
      "outputs": [
        {
          "output_type": "stream",
          "name": "stdout",
          "text": [
            "[[ 4 -2]\n",
            " [ 4 -4]]\n",
            "[5 2]\n"
          ]
        }
      ],
      "source": [
        "print(a)\n",
        "print(b)"
      ]
    },
    {
      "cell_type": "code",
      "execution_count": 11,
      "id": "cda9279e",
      "metadata": {
        "colab": {
          "base_uri": "https://localhost:8080/",
          "height": 282
        },
        "id": "cda9279e",
        "outputId": "b9f97358-ea37-47d8-d285-4528feb01063"
      },
      "outputs": [
        {
          "output_type": "execute_result",
          "data": {
            "text/plain": [
              "[<matplotlib.lines.Line2D at 0x7ff0444a0ed0>]"
            ]
          },
          "metadata": {},
          "execution_count": 11
        },
        {
          "output_type": "display_data",
          "data": {
            "image/png": "[encoded data removed]",
            "text/plain": [
              "<Figure size 432x288 with 1 Axes>"
            ]
          },
          "metadata": {
            "needs_background": "light"
          }
        }
      ],
      "source": [
        "fig, ax = plt.subplots() \n",
        "\n",
        "ax.plot(a[0], b)\n",
        "ax.plot(a[1], b)\n"
      ]
    },
    {
      "cell_type": "code",
      "execution_count": 12,
      "id": "262115ed",
      "metadata": {
        "colab": {
          "base_uri": "https://localhost:8080/"
        },
        "id": "262115ed",
        "outputId": "dbbce6c4-038e-4f99-b43d-cfd1bd389dc8"
      },
      "outputs": [
        {
          "output_type": "stream",
          "name": "stdout",
          "text": [
            "-7.999999999999998\n"
          ]
        }
      ],
      "source": [
        "# Calculating the inverse of 'a'\n",
        "print(det(a))\n",
        "# Without zeros"
      ]
    },
    {
      "cell_type": "code",
      "execution_count": 13,
      "id": "e387e198",
      "metadata": {
        "colab": {
          "base_uri": "https://localhost:8080/"
        },
        "id": "e387e198",
        "outputId": "65397751-3584-4e27-cfe6-7454ab0d99e8"
      },
      "outputs": [
        {
          "output_type": "execute_result",
          "data": {
            "text/plain": [
              "array([[ 0.5 , -0.25],\n",
              "       [ 0.5 , -0.5 ]])"
            ]
          },
          "metadata": {},
          "execution_count": 13
        }
      ],
      "source": [
        "# Demonstrating inverse matrix of 'a'\n",
        "a_inv = inv(a)\n",
        "a_inv"
      ]
    },
    {
      "cell_type": "code",
      "execution_count": 14,
      "id": "818cc4bf",
      "metadata": {
        "colab": {
          "base_uri": "https://localhost:8080/"
        },
        "id": "818cc4bf",
        "outputId": "0025b66b-1e16-418f-b452-26050a2cb915"
      },
      "outputs": [
        {
          "output_type": "stream",
          "name": "stdout",
          "text": [
            "[2.  1.5]\n",
            "x = 2.0 y = 1.5\n"
          ]
        }
      ],
      "source": [
        "# calculating 'x' and 'y' from the equation.\n",
        "x = a_inv.dot(b)\n",
        "print(x)\n",
        "\n",
        "print('x =',x[0], 'y =',x[1])"
      ]
    },
    {
      "cell_type": "markdown",
      "id": "3eae77a2",
      "metadata": {
        "id": "3eae77a2"
      },
      "source": [
        "## AUTOVALUES & AUTOVECTORS"
      ]
    },
    {
      "cell_type": "code",
      "execution_count": 15,
      "id": "fc5a6fdb",
      "metadata": {
        "id": "fc5a6fdb"
      },
      "outputs": [],
      "source": [
        "# Creating lists 3d\n",
        "avv = np.array([[1,2,3],\n",
        "                [4,5,6],\n",
        "                [2,5,3]])"
      ]
    },
    {
      "cell_type": "code",
      "execution_count": 16,
      "id": "0a254709",
      "metadata": {
        "id": "0a254709"
      },
      "outputs": [],
      "source": [
        "# Creating eigvalues and eigvectors\n",
        "a_values, a_vectors = al.eig(avv)"
      ]
    },
    {
      "cell_type": "code",
      "execution_count": 17,
      "id": "d0e63d3e",
      "metadata": {
        "colab": {
          "base_uri": "https://localhost:8080/"
        },
        "id": "d0e63d3e",
        "outputId": "4ceb84ba-ceeb-40fe-f747-d2fe3afee0c7"
      },
      "outputs": [
        {
          "output_type": "stream",
          "name": "stdout",
          "text": [
            "[11.02765021+0.j         -1.0138251 +0.57652051j -1.0138251 -0.57652051j]\n",
            "\n",
            "[[ 0.31954018+0.j          0.67311904+0.j          0.67311904-0.j        ]\n",
            " [ 0.76654399+0.j          0.11051796-0.35376359j  0.11051796+0.35376359j]\n",
            " [ 0.55704972+0.j         -0.52552665+0.36519804j -0.52552665-0.36519804j]]\n"
          ]
        }
      ],
      "source": [
        "print(a_values) # create a vector\n",
        "print('')\n",
        "print(a_vectors) # create a matrix that correspond to a_values"
      ]
    }
  ],
  "metadata": {
    "kernelspec": {
      "display_name": "Python 3",
      "language": "python",
      "name": "python3"
    },
    "language_info": {
      "codemirror_mode": {
        "name": "ipython",
        "version": 3
      },
      "file_extension": ".py",
      "mimetype": "text/x-python",
      "name": "python",
      "nbconvert_exporter": "python",
      "pygments_lexer": "ipython3",
      "version": "3.8.8"
    },
    "colab": {
      "name": "Algebra aplicada.ipynb",
      "provenance": [],
      "include_colab_link": true
    }
  },
  "nbformat": 4,
  "nbformat_minor": 5
}
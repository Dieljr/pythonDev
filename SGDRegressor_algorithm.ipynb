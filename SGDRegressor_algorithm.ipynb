{
  "cells": [
    {
      "cell_type": "markdown",
      "metadata": {
        "id": "view-in-github",
        "colab_type": "text"
      },
      "source": [
        "<a href=\"https://colab.research.google.com/github/Dieljr/pythonDev/blob/master/SGDRegressor_algorithm.ipynb\" target=\"_parent\"><img src=\"https://colab.research.google.com/assets/colab-badge.svg\" alt=\"Open In Colab\"/></a>"
      ]
    },
    {
      "cell_type": "markdown",
      "metadata": {
        "id": "ONCGZBND_pnV"
      },
      "source": [
        "# Conteúdo para aulas online\n",
        "## Segundo Notebook: Stochastic Gradient Descent Regressor"
      ]
    },
    {
      "cell_type": "markdown",
      "metadata": {
        "id": "GYXlaNj7_pna"
      },
      "source": [
        "### O Objetivo desse notebook é o de apresentar recursos intermediários a avançados sobre o Algoritmo Stochastic Gradient Descent Regressor do SKLearn, da classe dos modelos linearers (Linear Model)."
      ]
    },
    {
      "cell_type": "raw",
      "metadata": {
        "id": "4CraNZLa_pna"
      },
      "source": [
        "1. Source: \n",
        "a) https://scikit-learn.org/stable/modules/generated/sklearn.linear_model.SGDRegressor.html?highlight=gdr#sklearn.linear_model.SGDRegressor\n",
        "b) https://www.amazon.com.br/M%C3%A3os-obra-aprendizado-Scikit-Learn-inteligentes/dp/8550815489/ref=sr_1_1?crid=2JG8SYAU8K3UQ&keywords=tensorflow&qid=1646567493&s=books&sprefix=tensort+flow%2Cstripbooks%2C229&sr=1-1&ufe=app_do%3Aamzn1.fos.6d798eae-cadf-45de-946a-f477d47705b9\n",
        "\n",
        "\n",
        "2. Fórmula:\n",
        "\n",
        "\n",
        "LM busca minimizar a RMSE ( Root Mean Squared Error), isto é, encontrar o w que minimize Raiz do Erro Quadrado Médio.\n",
        "\n",
        "\n",
        "3. Parametros ou hiperparamentros:\n",
        "Para você que está começando, pode parecer estranho e confuso, mas é assim que a comunidade em Ciência de Dados se refere ajustadores dos algoritmos de machine learning. Então, vá se acostumando!\n",
        "Irei apresentar somente os mais importantes parametros que o ajudará no seu dia-a-dia como cientista de dados.\n",
        "\n",
        "class sklearn.linear_model.SGDRegressor(loss='squared_error', *, penalty='l2', alpha=0.0001, l1_ratio=0.15, fit_intercept=True, max_iter=1000, tol=0.001, shuffle=True, verbose=0, epsilon=0.1, random_state=None, learning_rate='invscaling', eta0=0.01, power_t=0.25, early_stopping=False, validation_fraction=0.1, n_iter_no_change=5, warm_start=False, average=False):\n",
        "\n",
        "a) penalty: L1: euclidean rules (distancia euclidiana); L2: por padrão, perda média de regressão absoluta. A combinação de ambas gera o elastic net;\n",
        "b) alpha: por padrão é 0,0001. É uma constante. Quanto maior o valor mais forte a regularização. Representa o número de avaliações das regularização em busca do mínimo global;\n",
        "c) L1_ratio: por padrão 0.15. somente usado para elastic net;\n",
        "d) max_iter: representa o momento de parada das regularizaçõe;\n",
        "e) verbose: por padrão é 0, mas se alterado para 1 mostra as regularizações feitas até encontrar o mínimo ideal;\n",
        "f) eta0: por padrão 0.01. É a taxa de aprendizado para o parametro 'learning_rate'. Quanto maior, mais o algoritmo aprende. Cuidado com o under fitting e overfitting.\n",
        "\n",
        "\n",
        "Atributos: ou o que se pode extrair do algoritmo depois que ele for usado. Melhor do que explicá-los aqui (teoria), é apresentá-los na prática!\n",
        "\n",
        "Cometários:\n",
        "O SGD é um algoritmo eficiente para ajustar algoritmos como SVM e Linear Regression minimizando a perda(custo) dos erros quadrados ao utilizar, principalmente, a regularização L1: norma euclidiana, ou L2: absoluta, ou ambas: rede elástica (elastica net).\n",
        "Neste exemplo irei aplicá-lo à Regressão Linear"
      ]
    },
    {
      "cell_type": "markdown",
      "metadata": {
        "id": "a24PT_J6_pnb"
      },
      "source": [
        "## PRÁTICA:"
      ]
    },
    {
      "cell_type": "code",
      "execution_count": null,
      "metadata": {
        "id": "mBzT_NqD_pnc"
      },
      "outputs": [],
      "source": [
        "# Carregar pacotes\n",
        "\n",
        "import numpy as np\n",
        "import pandas as pd\n",
        "\n",
        "import matplotlib.pyplot as plt\n",
        "import matplotlib as mpl\n",
        "import seaborn as sb\n",
        "\n",
        "from sklearn.preprocessing import StandardScaler\n",
        "from sklearn.linear_model import LinearRegression, SGDRegressor\n",
        "from sklearn.model_selection import train_test_split\n"
      ]
    },
    {
      "cell_type": "code",
      "execution_count": null,
      "metadata": {
        "id": "p4A4kmDL_pnd",
        "outputId": "b82e74e8-4c23-4bf8-a037-561180f5dfed"
      },
      "outputs": [
        {
          "name": "stdout",
          "output_type": "stream",
          "text": [
            "<class 'pandas.core.frame.DataFrame'>\n",
            "RangeIndex: 406 entries, 0 to 405\n",
            "Data columns (total 9 columns):\n",
            " #   Column        Non-Null Count  Dtype  \n",
            "---  ------        --------------  -----  \n",
            " 0   mpg           398 non-null    float64\n",
            " 1   cylinders     406 non-null    float64\n",
            " 2   displacement  406 non-null    float64\n",
            " 3   horsepower    400 non-null    float64\n",
            " 4   weight        406 non-null    float64\n",
            " 5   accelaration  406 non-null    float64\n",
            " 6   model_year    406 non-null    float64\n",
            " 7   origin        1 non-null      object \n",
            " 8   car_name      0 non-null      float64\n",
            "dtypes: float64(8), object(1)\n",
            "memory usage: 28.7+ KB\n"
          ]
        }
      ],
      "source": [
        "# Carregar dataset\n",
        "df = pd.read_csv('mpg.csv', sep = ';', names=['mpg', 'cylinders', 'displacement', 'horsepower', 'weight', 'accelaration',\n",
        "                                              'model_year', 'origin', 'car_name'])\n",
        "df.info()"
      ]
    },
    {
      "cell_type": "markdown",
      "metadata": {
        "id": "vHL_qHJ__pne"
      },
      "source": [
        "### Pequenos ajustes"
      ]
    },
    {
      "cell_type": "code",
      "execution_count": null,
      "metadata": {
        "id": "PVTHRAbk_pnf"
      },
      "outputs": [],
      "source": [
        "# Não precisaremos das duas últimas colunas\n",
        "del df['origin']\n",
        "del df['car_name']"
      ]
    },
    {
      "cell_type": "code",
      "execution_count": null,
      "metadata": {
        "id": "KMrGsXnk_pnf",
        "outputId": "d17faa68-cf74-40e4-8fbb-d1df0a0c681e"
      },
      "outputs": [
        {
          "data": {
            "text/html": [
              "<div>\n",
              "<style scoped>\n",
              "    .dataframe tbody tr th:only-of-type {\n",
              "        vertical-align: middle;\n",
              "    }\n",
              "\n",
              "    .dataframe tbody tr th {\n",
              "        vertical-align: top;\n",
              "    }\n",
              "\n",
              "    .dataframe thead th {\n",
              "        text-align: right;\n",
              "    }\n",
              "</style>\n",
              "<table border=\"1\" class=\"dataframe\">\n",
              "  <thead>\n",
              "    <tr style=\"text-align: right;\">\n",
              "      <th></th>\n",
              "      <th>mpg</th>\n",
              "      <th>cylinders</th>\n",
              "      <th>displacement</th>\n",
              "      <th>horsepower</th>\n",
              "      <th>weight</th>\n",
              "      <th>accelaration</th>\n",
              "      <th>model_year</th>\n",
              "    </tr>\n",
              "  </thead>\n",
              "  <tbody>\n",
              "    <tr>\n",
              "      <th>0</th>\n",
              "      <td>18.0</td>\n",
              "      <td>8.0</td>\n",
              "      <td>307.0</td>\n",
              "      <td>130.0</td>\n",
              "      <td>3504.0</td>\n",
              "      <td>12.0</td>\n",
              "      <td>70.0</td>\n",
              "    </tr>\n",
              "    <tr>\n",
              "      <th>1</th>\n",
              "      <td>15.0</td>\n",
              "      <td>8.0</td>\n",
              "      <td>350.0</td>\n",
              "      <td>165.0</td>\n",
              "      <td>3693.0</td>\n",
              "      <td>11.5</td>\n",
              "      <td>70.0</td>\n",
              "    </tr>\n",
              "    <tr>\n",
              "      <th>2</th>\n",
              "      <td>18.0</td>\n",
              "      <td>8.0</td>\n",
              "      <td>318.0</td>\n",
              "      <td>150.0</td>\n",
              "      <td>3436.0</td>\n",
              "      <td>11.0</td>\n",
              "      <td>70.0</td>\n",
              "    </tr>\n",
              "    <tr>\n",
              "      <th>3</th>\n",
              "      <td>16.0</td>\n",
              "      <td>8.0</td>\n",
              "      <td>304.0</td>\n",
              "      <td>150.0</td>\n",
              "      <td>3433.0</td>\n",
              "      <td>12.0</td>\n",
              "      <td>70.0</td>\n",
              "    </tr>\n",
              "    <tr>\n",
              "      <th>4</th>\n",
              "      <td>17.0</td>\n",
              "      <td>8.0</td>\n",
              "      <td>302.0</td>\n",
              "      <td>140.0</td>\n",
              "      <td>3449.0</td>\n",
              "      <td>10.5</td>\n",
              "      <td>70.0</td>\n",
              "    </tr>\n",
              "  </tbody>\n",
              "</table>\n",
              "</div>"
            ],
            "text/plain": [
              "    mpg  cylinders  displacement  horsepower  weight  accelaration  model_year\n",
              "0  18.0        8.0         307.0       130.0  3504.0          12.0        70.0\n",
              "1  15.0        8.0         350.0       165.0  3693.0          11.5        70.0\n",
              "2  18.0        8.0         318.0       150.0  3436.0          11.0        70.0\n",
              "3  16.0        8.0         304.0       150.0  3433.0          12.0        70.0\n",
              "4  17.0        8.0         302.0       140.0  3449.0          10.5        70.0"
            ]
          },
          "execution_count": 4,
          "metadata": {},
          "output_type": "execute_result"
        }
      ],
      "source": [
        "df.head()"
      ]
    },
    {
      "cell_type": "code",
      "execution_count": null,
      "metadata": {
        "id": "12kKxqmK_png"
      },
      "outputs": [],
      "source": [
        "df = df.dropna()"
      ]
    },
    {
      "cell_type": "code",
      "execution_count": null,
      "metadata": {
        "id": "3gzHoM-s_png",
        "outputId": "49ec7640-43f6-4cb2-88ba-30aa4d4a4d52"
      },
      "outputs": [
        {
          "name": "stdout",
          "output_type": "stream",
          "text": [
            "<class 'pandas.core.frame.DataFrame'>\n",
            "Int64Index: 392 entries, 0 to 405\n",
            "Data columns (total 7 columns):\n",
            " #   Column        Non-Null Count  Dtype  \n",
            "---  ------        --------------  -----  \n",
            " 0   mpg           392 non-null    float64\n",
            " 1   cylinders     392 non-null    float64\n",
            " 2   displacement  392 non-null    float64\n",
            " 3   horsepower    392 non-null    float64\n",
            " 4   weight        392 non-null    float64\n",
            " 5   accelaration  392 non-null    float64\n",
            " 6   model_year    392 non-null    float64\n",
            "dtypes: float64(7)\n",
            "memory usage: 24.5 KB\n"
          ]
        }
      ],
      "source": [
        "df.info()"
      ]
    },
    {
      "cell_type": "code",
      "execution_count": null,
      "metadata": {
        "id": "hg2nnX1__pnh"
      },
      "outputs": [],
      "source": [
        "# Separar as variáveis para o algoritmo\n",
        "X = df.drop(['mpg'], axis = 1)\n",
        "y = df['mpg']"
      ]
    },
    {
      "cell_type": "code",
      "execution_count": null,
      "metadata": {
        "id": "VZ4FF9Qi_pnh"
      },
      "outputs": [],
      "source": [
        "# Normalizar o conjunto das features, pois o algoritmo exige para dados não normalizados\n",
        "scale = StandardScaler()\n",
        "X_scale = scale.fit_transform(X)"
      ]
    },
    {
      "cell_type": "code",
      "execution_count": null,
      "metadata": {
        "id": "RkI4g8L__pnh"
      },
      "outputs": [],
      "source": [
        "# Dividir em dados treino e teste\n",
        "X_treino, X_teste, y_treino, y_teste = train_test_split(X_scale, y, test_size = 0.3, random_state = 100)"
      ]
    },
    {
      "cell_type": "markdown",
      "metadata": {
        "id": "PaOHPfGC_pni"
      },
      "source": [
        "### Avaliação com diferentes configurações dos hiperparametros\n",
        "#### Neste ponto você deve tentar as mais diversas combinações para ganhar conhecimento do compportamento dos resultados.\n",
        "#### Vou apresentar apenas alguns o rsto e com você!"
      ]
    },
    {
      "cell_type": "markdown",
      "metadata": {
        "id": "WCrWJ22W_pni"
      },
      "source": [
        "### modelo 0: nada é alterado"
      ]
    },
    {
      "cell_type": "code",
      "execution_count": null,
      "metadata": {
        "id": "G3DUtJ2c_pni"
      },
      "outputs": [],
      "source": [
        "# Criar objeto SGDRegressor, apenas alterando verbose para acompanharmos as info geradas pelo algoritmo.\n",
        "sgdr_0 = SGDRegressor(verbose = 1)"
      ]
    },
    {
      "cell_type": "code",
      "execution_count": null,
      "metadata": {
        "id": "5a7y0B52_pni",
        "outputId": "a9e12e46-5581-4ba5-9a9e-64182713c9b2"
      },
      "outputs": [
        {
          "name": "stdout",
          "output_type": "stream",
          "text": [
            "-- Epoch 1\n",
            "Norm: 3.39, NNZs: 6, Bias: 14.052905, T: 274, Avg. loss: 124.894984\n",
            "Total training time: 0.00 seconds.\n",
            "-- Epoch 2\n",
            "Norm: 3.62, NNZs: 6, Bias: 18.410311, T: 548, Avg. loss: 33.432152\n",
            "Total training time: 0.00 seconds.\n",
            "-- Epoch 3\n",
            "Norm: 3.74, NNZs: 6, Bias: 20.563835, T: 822, Avg. loss: 15.256785\n",
            "Total training time: 0.00 seconds.\n",
            "-- Epoch 4\n",
            "Norm: 3.85, NNZs: 6, Bias: 21.741901, T: 1096, Avg. loss: 9.842208\n",
            "Total training time: 0.00 seconds.\n",
            "-- Epoch 5\n",
            "Norm: 3.96, NNZs: 6, Bias: 22.409371, T: 1370, Avg. loss: 7.977276\n",
            "Total training time: 0.00 seconds.\n",
            "-- Epoch 6\n",
            "Norm: 4.12, NNZs: 6, Bias: 22.830591, T: 1644, Avg. loss: 7.237640\n",
            "Total training time: 0.00 seconds.\n",
            "-- Epoch 7\n",
            "Norm: 4.21, NNZs: 6, Bias: 23.086967, T: 1918, Avg. loss: 6.920975\n",
            "Total training time: 0.00 seconds.\n",
            "-- Epoch 8\n",
            "Norm: 4.26, NNZs: 6, Bias: 23.247513, T: 2192, Avg. loss: 6.784896\n",
            "Total training time: 0.00 seconds.\n",
            "-- Epoch 9\n",
            "Norm: 4.23, NNZs: 6, Bias: 23.357367, T: 2466, Avg. loss: 6.723853\n",
            "Total training time: 0.00 seconds.\n",
            "-- Epoch 10\n",
            "Norm: 4.29, NNZs: 6, Bias: 23.428688, T: 2740, Avg. loss: 6.651230\n",
            "Total training time: 0.00 seconds.\n",
            "-- Epoch 11\n",
            "Norm: 4.30, NNZs: 6, Bias: 23.485802, T: 3014, Avg. loss: 6.626121\n",
            "Total training time: 0.00 seconds.\n",
            "-- Epoch 12\n",
            "Norm: 4.30, NNZs: 6, Bias: 23.509170, T: 3288, Avg. loss: 6.575051\n",
            "Total training time: 0.00 seconds.\n",
            "-- Epoch 13\n",
            "Norm: 4.37, NNZs: 6, Bias: 23.538168, T: 3562, Avg. loss: 6.572070\n",
            "Total training time: 0.00 seconds.\n",
            "-- Epoch 14\n",
            "Norm: 4.44, NNZs: 6, Bias: 23.553925, T: 3836, Avg. loss: 6.541313\n",
            "Total training time: 0.00 seconds.\n",
            "-- Epoch 15\n",
            "Norm: 4.45, NNZs: 6, Bias: 23.559529, T: 4110, Avg. loss: 6.522910\n",
            "Total training time: 0.00 seconds.\n",
            "-- Epoch 16\n",
            "Norm: 4.48, NNZs: 6, Bias: 23.560264, T: 4384, Avg. loss: 6.508100\n",
            "Total training time: 0.00 seconds.\n",
            "-- Epoch 17\n",
            "Norm: 4.54, NNZs: 6, Bias: 23.572627, T: 4658, Avg. loss: 6.489301\n",
            "Total training time: 0.00 seconds.\n",
            "-- Epoch 18\n",
            "Norm: 4.54, NNZs: 6, Bias: 23.568182, T: 4932, Avg. loss: 6.465851\n",
            "Total training time: 0.00 seconds.\n",
            "-- Epoch 19\n",
            "Norm: 4.64, NNZs: 6, Bias: 23.560803, T: 5206, Avg. loss: 6.437772\n",
            "Total training time: 0.00 seconds.\n",
            "-- Epoch 20\n",
            "Norm: 4.64, NNZs: 6, Bias: 23.567538, T: 5480, Avg. loss: 6.451706\n",
            "Total training time: 0.00 seconds.\n",
            "-- Epoch 21\n",
            "Norm: 4.63, NNZs: 6, Bias: 23.564935, T: 5754, Avg. loss: 6.428074\n",
            "Total training time: 0.00 seconds.\n",
            "-- Epoch 22\n",
            "Norm: 4.72, NNZs: 6, Bias: 23.567834, T: 6028, Avg. loss: 6.411506\n",
            "Total training time: 0.00 seconds.\n",
            "-- Epoch 23\n",
            "Norm: 4.74, NNZs: 6, Bias: 23.568532, T: 6302, Avg. loss: 6.406214\n",
            "Total training time: 0.01 seconds.\n",
            "-- Epoch 24\n",
            "Norm: 4.73, NNZs: 6, Bias: 23.572317, T: 6576, Avg. loss: 6.393073\n",
            "Total training time: 0.01 seconds.\n",
            "-- Epoch 25\n",
            "Norm: 4.80, NNZs: 6, Bias: 23.572317, T: 6850, Avg. loss: 6.386561\n",
            "Total training time: 0.01 seconds.\n",
            "-- Epoch 26\n",
            "Norm: 4.83, NNZs: 6, Bias: 23.576335, T: 7124, Avg. loss: 6.377359\n",
            "Total training time: 0.01 seconds.\n",
            "-- Epoch 27\n",
            "Norm: 4.84, NNZs: 6, Bias: 23.582563, T: 7398, Avg. loss: 6.375890\n",
            "Total training time: 0.01 seconds.\n",
            "-- Epoch 28\n",
            "Norm: 4.84, NNZs: 6, Bias: 23.575495, T: 7672, Avg. loss: 6.361136\n",
            "Total training time: 0.01 seconds.\n",
            "-- Epoch 29\n",
            "Norm: 4.91, NNZs: 6, Bias: 23.569621, T: 7946, Avg. loss: 6.342056\n",
            "Total training time: 0.01 seconds.\n",
            "-- Epoch 30\n",
            "Norm: 4.87, NNZs: 6, Bias: 23.558300, T: 8220, Avg. loss: 6.329444\n",
            "Total training time: 0.01 seconds.\n",
            "-- Epoch 31\n",
            "Norm: 4.92, NNZs: 6, Bias: 23.569347, T: 8494, Avg. loss: 6.348269\n",
            "Total training time: 0.01 seconds.\n",
            "-- Epoch 32\n",
            "Norm: 4.98, NNZs: 6, Bias: 23.573469, T: 8768, Avg. loss: 6.330643\n",
            "Total training time: 0.01 seconds.\n",
            "-- Epoch 33\n",
            "Norm: 4.98, NNZs: 6, Bias: 23.574608, T: 9042, Avg. loss: 6.330434\n",
            "Total training time: 0.01 seconds.\n",
            "-- Epoch 34\n",
            "Norm: 5.03, NNZs: 6, Bias: 23.573511, T: 9316, Avg. loss: 6.317873\n",
            "Total training time: 0.01 seconds.\n",
            "-- Epoch 35\n",
            "Norm: 5.05, NNZs: 6, Bias: 23.569259, T: 9590, Avg. loss: 6.309153\n",
            "Total training time: 0.01 seconds.\n",
            "-- Epoch 36\n",
            "Norm: 5.05, NNZs: 6, Bias: 23.575072, T: 9864, Avg. loss: 6.313967\n",
            "Total training time: 0.01 seconds.\n",
            "-- Epoch 37\n",
            "Norm: 5.07, NNZs: 6, Bias: 23.575503, T: 10138, Avg. loss: 6.307024\n",
            "Total training time: 0.01 seconds.\n",
            "-- Epoch 38\n",
            "Norm: 5.07, NNZs: 6, Bias: 23.573827, T: 10412, Avg. loss: 6.299547\n",
            "Total training time: 0.01 seconds.\n",
            "-- Epoch 39\n",
            "Norm: 5.11, NNZs: 6, Bias: 23.571267, T: 10686, Avg. loss: 6.301031\n",
            "Total training time: 0.01 seconds.\n",
            "-- Epoch 40\n",
            "Norm: 5.14, NNZs: 6, Bias: 23.573760, T: 10960, Avg. loss: 6.294910\n",
            "Total training time: 0.01 seconds.\n",
            "-- Epoch 41\n",
            "Norm: 5.17, NNZs: 6, Bias: 23.575085, T: 11234, Avg. loss: 6.286592\n",
            "Total training time: 0.01 seconds.\n",
            "-- Epoch 42\n",
            "Norm: 5.18, NNZs: 6, Bias: 23.574168, T: 11508, Avg. loss: 6.286016\n",
            "Total training time: 0.01 seconds.\n",
            "-- Epoch 43\n",
            "Norm: 5.19, NNZs: 6, Bias: 23.574550, T: 11782, Avg. loss: 6.279748\n",
            "Total training time: 0.01 seconds.\n",
            "-- Epoch 44\n",
            "Norm: 5.24, NNZs: 6, Bias: 23.575163, T: 12056, Avg. loss: 6.258551\n",
            "Total training time: 0.01 seconds.\n",
            "-- Epoch 45\n",
            "Norm: 5.22, NNZs: 6, Bias: 23.570799, T: 12330, Avg. loss: 6.261914\n",
            "Total training time: 0.01 seconds.\n",
            "-- Epoch 46\n",
            "Norm: 5.24, NNZs: 6, Bias: 23.567404, T: 12604, Avg. loss: 6.263594\n",
            "Total training time: 0.01 seconds.\n",
            "-- Epoch 47\n",
            "Norm: 5.29, NNZs: 6, Bias: 23.569552, T: 12878, Avg. loss: 6.258154\n",
            "Total training time: 0.01 seconds.\n",
            "-- Epoch 48\n",
            "Norm: 5.30, NNZs: 6, Bias: 23.570856, T: 13152, Avg. loss: 6.264292\n",
            "Total training time: 0.01 seconds.\n",
            "-- Epoch 49\n",
            "Norm: 5.33, NNZs: 6, Bias: 23.575920, T: 13426, Avg. loss: 6.257228\n",
            "Total training time: 0.01 seconds.\n",
            "Convergence after 49 epochs took 0.01 seconds\n"
          ]
        }
      ],
      "source": [
        "model_0 = sgdr_0.fit(X_treino, y_treino)"
      ]
    },
    {
      "cell_type": "code",
      "execution_count": null,
      "metadata": {
        "id": "UalkS3hi_pnj",
        "outputId": "abf9ec78-6b55-40e3-b324-c1ab401fcb0a"
      },
      "outputs": [
        {
          "data": {
            "text/plain": [
              "80.37779710712428"
            ]
          },
          "execution_count": 12,
          "metadata": {},
          "output_type": "execute_result"
        }
      ],
      "source": [
        "# Avalia o quão bom/mal foi o aprendizado\n",
        "model_0.score(X_scale, y)*100"
      ]
    },
    {
      "cell_type": "markdown",
      "metadata": {
        "id": "sN6Ju5ak_pnj"
      },
      "source": [
        "### compreendendo as atributos"
      ]
    },
    {
      "cell_type": "raw",
      "metadata": {
        "id": "7Ladyeps_pnj"
      },
      "source": [
        "Na época 49:   \n",
        "    Norm (norma): 5.33\n",
        "    NNZs (número de dimensões diferente de zero): 6\n",
        "    Bias (viéz da variância): 23.575920\n",
        "    T (peso a cada atualização): 13426\n",
        "    Avg. loss (perda média): 6.257228\n",
        "    Total training time: 0.01 seconds.\n",
        "    Convergence after 49 epochs took 0.01 seconds"
      ]
    },
    {
      "cell_type": "markdown",
      "metadata": {
        "id": "PpAnhl6y_pnj"
      },
      "source": [
        "#### Menor taxa de perda na epóca 48, com 6.26"
      ]
    },
    {
      "cell_type": "code",
      "execution_count": null,
      "metadata": {
        "id": "g6O-Oqgq_pnk",
        "outputId": "e65857ad-5833-41d2-b331-782012da5f0b"
      },
      "outputs": [
        {
          "data": {
            "text/plain": [
              "array([23.57591999])"
            ]
          },
          "execution_count": 13,
          "metadata": {},
          "output_type": "execute_result"
        }
      ],
      "source": [
        "# Momento em que x = 0 e intercepta o eixo y\n",
        "model_0.intercept_"
      ]
    },
    {
      "cell_type": "code",
      "execution_count": null,
      "metadata": {
        "id": "hWKkiVAL_pnk",
        "outputId": "b18999a9-a3a7-4bc7-ca7c-d787d813fda6"
      },
      "outputs": [
        {
          "data": {
            "text/plain": [
              "array([-0.14350425, -0.05369341, -1.11455769, -4.46451301,  0.06945963,\n",
              "        2.68713686])"
            ]
          },
          "execution_count": 14,
          "metadata": {},
          "output_type": "execute_result"
        }
      ],
      "source": [
        "# Coeficiente estimado (coef_)\n",
        "# Quanto maior melhor o ajuste da reta\n",
        "# Aqui há um coeficiente para cada variável, visto que se trata de uma regressão multivariada\n",
        "\n",
        "model_0.coef_"
      ]
    },
    {
      "cell_type": "markdown",
      "metadata": {
        "id": "hzGB9nZY_pnk"
      },
      "source": [
        "### modelo 1: alteração na norma de regularização (L2 para L1)"
      ]
    },
    {
      "cell_type": "code",
      "execution_count": null,
      "metadata": {
        "id": "RcIAoUKY_pnk"
      },
      "outputs": [],
      "source": [
        "sgdr_1 = SGDRegressor(penalty='L1', verbose = 1)"
      ]
    },
    {
      "cell_type": "code",
      "execution_count": null,
      "metadata": {
        "id": "-Q7Qa1AJ_pnk",
        "outputId": "4cc8ab76-7baa-4566-9d9f-c89e658fb508"
      },
      "outputs": [
        {
          "name": "stdout",
          "output_type": "stream",
          "text": [
            "-- Epoch 1\n",
            "Norm: 3.35, NNZs: 6, Bias: 13.849661, T: 274, Avg. loss: 128.373660\n",
            "Total training time: 0.00 seconds.\n",
            "-- Epoch 2\n",
            "Norm: 3.85, NNZs: 6, Bias: 18.317544, T: 548, Avg. loss: 34.424500\n",
            "Total training time: 0.00 seconds.\n",
            "-- Epoch 3\n",
            "Norm: 4.03, NNZs: 6, Bias: 20.515303, T: 822, Avg. loss: 15.483971\n",
            "Total training time: 0.00 seconds.\n",
            "-- Epoch 4\n",
            "Norm: 4.04, NNZs: 6, Bias: 21.722275, T: 1096, Avg. loss: 9.951865\n",
            "Total training time: 0.00 seconds.\n",
            "-- Epoch 5\n",
            "Norm: 4.05, NNZs: 6, Bias: 22.419617, T: 1370, Avg. loss: 8.008410\n",
            "Total training time: 0.00 seconds.\n",
            "-- Epoch 6\n",
            "Norm: 4.08, NNZs: 6, Bias: 22.829957, T: 1644, Avg. loss: 7.277846\n",
            "Total training time: 0.00 seconds.\n",
            "-- Epoch 7\n",
            "Norm: 4.12, NNZs: 6, Bias: 23.091403, T: 1918, Avg. loss: 6.960748\n",
            "Total training time: 0.00 seconds.\n",
            "-- Epoch 8\n",
            "Norm: 4.10, NNZs: 6, Bias: 23.246335, T: 2192, Avg. loss: 6.794790\n",
            "Total training time: 0.00 seconds.\n",
            "-- Epoch 9\n",
            "Norm: 4.21, NNZs: 6, Bias: 23.353025, T: 2466, Avg. loss: 6.727993\n",
            "Total training time: 0.00 seconds.\n",
            "-- Epoch 10\n",
            "Norm: 4.25, NNZs: 6, Bias: 23.425057, T: 2740, Avg. loss: 6.675320\n",
            "Total training time: 0.00 seconds.\n",
            "-- Epoch 11\n",
            "Norm: 4.26, NNZs: 6, Bias: 23.456169, T: 3014, Avg. loss: 6.636441\n",
            "Total training time: 0.00 seconds.\n",
            "-- Epoch 12\n",
            "Norm: 4.35, NNZs: 6, Bias: 23.497209, T: 3288, Avg. loss: 6.600885\n",
            "Total training time: 0.00 seconds.\n",
            "-- Epoch 13\n",
            "Norm: 4.39, NNZs: 6, Bias: 23.526058, T: 3562, Avg. loss: 6.572226\n",
            "Total training time: 0.00 seconds.\n",
            "-- Epoch 14\n",
            "Norm: 4.39, NNZs: 6, Bias: 23.525701, T: 3836, Avg. loss: 6.557144\n",
            "Total training time: 0.00 seconds.\n",
            "-- Epoch 15\n",
            "Norm: 4.42, NNZs: 6, Bias: 23.540126, T: 4110, Avg. loss: 6.540551\n",
            "Total training time: 0.00 seconds.\n",
            "-- Epoch 16\n",
            "Norm: 4.45, NNZs: 6, Bias: 23.545525, T: 4384, Avg. loss: 6.516829\n",
            "Total training time: 0.00 seconds.\n",
            "-- Epoch 17\n",
            "Norm: 4.51, NNZs: 6, Bias: 23.546396, T: 4658, Avg. loss: 6.502870\n",
            "Total training time: 0.00 seconds.\n",
            "-- Epoch 18\n",
            "Norm: 4.51, NNZs: 6, Bias: 23.553704, T: 4932, Avg. loss: 6.483036\n",
            "Total training time: 0.00 seconds.\n",
            "-- Epoch 19\n",
            "Norm: 4.61, NNZs: 6, Bias: 23.560933, T: 5206, Avg. loss: 6.460880\n",
            "Total training time: 0.00 seconds.\n",
            "-- Epoch 20\n",
            "Norm: 4.62, NNZs: 6, Bias: 23.569491, T: 5480, Avg. loss: 6.460372\n",
            "Total training time: 0.00 seconds.\n",
            "-- Epoch 21\n",
            "Norm: 4.66, NNZs: 6, Bias: 23.576540, T: 5754, Avg. loss: 6.443831\n",
            "Total training time: 0.00 seconds.\n",
            "-- Epoch 22\n",
            "Norm: 4.69, NNZs: 6, Bias: 23.579732, T: 6028, Avg. loss: 6.429073\n",
            "Total training time: 0.00 seconds.\n",
            "-- Epoch 23\n",
            "Norm: 4.73, NNZs: 6, Bias: 23.583285, T: 6302, Avg. loss: 6.419482\n",
            "Total training time: 0.00 seconds.\n",
            "-- Epoch 24\n",
            "Norm: 4.75, NNZs: 6, Bias: 23.577299, T: 6576, Avg. loss: 6.410692\n",
            "Total training time: 0.00 seconds.\n",
            "-- Epoch 25\n",
            "Norm: 4.75, NNZs: 6, Bias: 23.570789, T: 6850, Avg. loss: 6.397569\n",
            "Total training time: 0.00 seconds.\n",
            "-- Epoch 26\n",
            "Norm: 4.78, NNZs: 6, Bias: 23.570456, T: 7124, Avg. loss: 6.389951\n",
            "Total training time: 0.00 seconds.\n",
            "-- Epoch 27\n",
            "Norm: 4.83, NNZs: 6, Bias: 23.568230, T: 7398, Avg. loss: 6.379837\n",
            "Total training time: 0.00 seconds.\n",
            "-- Epoch 28\n",
            "Norm: 4.87, NNZs: 6, Bias: 23.570577, T: 7672, Avg. loss: 6.367225\n",
            "Total training time: 0.00 seconds.\n",
            "-- Epoch 29\n",
            "Norm: 4.87, NNZs: 6, Bias: 23.568316, T: 7946, Avg. loss: 6.365202\n",
            "Total training time: 0.00 seconds.\n",
            "-- Epoch 30\n",
            "Norm: 4.87, NNZs: 6, Bias: 23.568872, T: 8220, Avg. loss: 6.350249\n",
            "Total training time: 0.00 seconds.\n",
            "-- Epoch 31\n",
            "Norm: 4.93, NNZs: 6, Bias: 23.569333, T: 8494, Avg. loss: 6.346393\n",
            "Total training time: 0.00 seconds.\n",
            "-- Epoch 32\n",
            "Norm: 4.92, NNZs: 6, Bias: 23.564437, T: 8768, Avg. loss: 6.335803\n",
            "Total training time: 0.00 seconds.\n",
            "-- Epoch 33\n",
            "Norm: 4.94, NNZs: 6, Bias: 23.564272, T: 9042, Avg. loss: 6.334023\n",
            "Total training time: 0.00 seconds.\n",
            "-- Epoch 34\n",
            "Norm: 4.95, NNZs: 6, Bias: 23.563590, T: 9316, Avg. loss: 6.319682\n",
            "Total training time: 0.00 seconds.\n",
            "-- Epoch 35\n",
            "Norm: 5.01, NNZs: 6, Bias: 23.565751, T: 9590, Avg. loss: 6.325205\n",
            "Total training time: 0.00 seconds.\n",
            "-- Epoch 36\n",
            "Norm: 4.99, NNZs: 6, Bias: 23.567079, T: 9864, Avg. loss: 6.300318\n",
            "Total training time: 0.00 seconds.\n",
            "-- Epoch 37\n",
            "Norm: 5.03, NNZs: 6, Bias: 23.558577, T: 10138, Avg. loss: 6.316067\n",
            "Total training time: 0.00 seconds.\n",
            "-- Epoch 38\n",
            "Norm: 5.06, NNZs: 6, Bias: 23.560147, T: 10412, Avg. loss: 6.308454\n",
            "Total training time: 0.00 seconds.\n",
            "-- Epoch 39\n",
            "Norm: 5.11, NNZs: 6, Bias: 23.561597, T: 10686, Avg. loss: 6.302215\n",
            "Total training time: 0.00 seconds.\n",
            "-- Epoch 40\n",
            "Norm: 5.13, NNZs: 6, Bias: 23.561377, T: 10960, Avg. loss: 6.299393\n",
            "Total training time: 0.00 seconds.\n",
            "-- Epoch 41\n",
            "Norm: 5.17, NNZs: 6, Bias: 23.560734, T: 11234, Avg. loss: 6.290615\n",
            "Total training time: 0.00 seconds.\n",
            "-- Epoch 42\n",
            "Norm: 5.17, NNZs: 6, Bias: 23.554791, T: 11508, Avg. loss: 6.289472\n",
            "Total training time: 0.00 seconds.\n",
            "-- Epoch 43\n",
            "Norm: 5.19, NNZs: 6, Bias: 23.559646, T: 11782, Avg. loss: 6.285373\n",
            "Total training time: 0.00 seconds.\n",
            "-- Epoch 44\n",
            "Norm: 5.22, NNZs: 6, Bias: 23.566873, T: 12056, Avg. loss: 6.280347\n",
            "Total training time: 0.00 seconds.\n",
            "-- Epoch 45\n",
            "Norm: 5.24, NNZs: 6, Bias: 23.568901, T: 12330, Avg. loss: 6.274785\n",
            "Total training time: 0.01 seconds.\n",
            "-- Epoch 46\n",
            "Norm: 5.27, NNZs: 6, Bias: 23.576347, T: 12604, Avg. loss: 6.271960\n",
            "Total training time: 0.01 seconds.\n",
            "-- Epoch 47\n",
            "Norm: 5.28, NNZs: 6, Bias: 23.575347, T: 12878, Avg. loss: 6.271474\n",
            "Total training time: 0.01 seconds.\n",
            "-- Epoch 48\n",
            "Norm: 5.30, NNZs: 6, Bias: 23.579647, T: 13152, Avg. loss: 6.266005\n",
            "Total training time: 0.01 seconds.\n",
            "-- Epoch 49\n",
            "Norm: 5.30, NNZs: 6, Bias: 23.587331, T: 13426, Avg. loss: 6.264655\n",
            "Total training time: 0.01 seconds.\n",
            "-- Epoch 50\n",
            "Norm: 5.31, NNZs: 6, Bias: 23.576049, T: 13700, Avg. loss: 6.260261\n",
            "Total training time: 0.01 seconds.\n",
            "-- Epoch 51\n",
            "Norm: 5.33, NNZs: 6, Bias: 23.578156, T: 13974, Avg. loss: 6.257399\n",
            "Total training time: 0.01 seconds.\n",
            "-- Epoch 52\n",
            "Norm: 5.32, NNZs: 6, Bias: 23.579448, T: 14248, Avg. loss: 6.248554\n",
            "Total training time: 0.01 seconds.\n",
            "-- Epoch 53\n",
            "Norm: 5.35, NNZs: 6, Bias: 23.573142, T: 14522, Avg. loss: 6.252682\n",
            "Total training time: 0.01 seconds.\n",
            "-- Epoch 54\n",
            "Norm: 5.34, NNZs: 6, Bias: 23.569434, T: 14796, Avg. loss: 6.229790\n",
            "Total training time: 0.01 seconds.\n",
            "-- Epoch 55\n",
            "Norm: 5.37, NNZs: 6, Bias: 23.567560, T: 15070, Avg. loss: 6.251486\n",
            "Total training time: 0.01 seconds.\n",
            "-- Epoch 56\n",
            "Norm: 5.38, NNZs: 6, Bias: 23.564448, T: 15344, Avg. loss: 6.242865\n",
            "Total training time: 0.01 seconds.\n",
            "-- Epoch 57\n",
            "Norm: 5.40, NNZs: 6, Bias: 23.568759, T: 15618, Avg. loss: 6.241140\n",
            "Total training time: 0.01 seconds.\n",
            "-- Epoch 58\n",
            "Norm: 5.41, NNZs: 6, Bias: 23.571848, T: 15892, Avg. loss: 6.238020\n",
            "Total training time: 0.01 seconds.\n",
            "-- Epoch 59\n",
            "Norm: 5.45, NNZs: 6, Bias: 23.572137, T: 16166, Avg. loss: 6.238452\n",
            "Total training time: 0.01 seconds.\n",
            "Convergence after 59 epochs took 0.01 seconds\n"
          ]
        }
      ],
      "source": [
        "model_1 = sgdr_1.fit(X_treino, y_treino)"
      ]
    },
    {
      "cell_type": "code",
      "execution_count": null,
      "metadata": {
        "id": "WISa8BZN_pnl",
        "outputId": "71c23a4e-09dc-4f57-fb82-bee22999cb6b"
      },
      "outputs": [
        {
          "data": {
            "text/plain": [
              "80.46404653366756"
            ]
          },
          "execution_count": 17,
          "metadata": {},
          "output_type": "execute_result"
        }
      ],
      "source": [
        "# Avalia o quão bom/mal foi o aprendizado\n",
        "model_1.score(X_scale, y)*100"
      ]
    },
    {
      "cell_type": "markdown",
      "metadata": {
        "id": "bAFGHSoe_pnl"
      },
      "source": [
        "#### Menor taxa de perda na epóca 72, com 6,21"
      ]
    },
    {
      "cell_type": "markdown",
      "metadata": {
        "id": "DANytOH-_pnl"
      },
      "source": [
        "### modelo 2: alteração na norma de regularização (eta0 de 0.01 para 0.1)"
      ]
    },
    {
      "cell_type": "code",
      "execution_count": null,
      "metadata": {
        "id": "1dpLaTQN_pnl"
      },
      "outputs": [],
      "source": [
        "sgdr_2 = SGDRegressor(eta0 = 0.1, verbose = 1)"
      ]
    },
    {
      "cell_type": "code",
      "execution_count": null,
      "metadata": {
        "id": "VG8mvF1v_pnl",
        "outputId": "f8a64c50-0f53-491e-b1fd-44f00a36890b"
      },
      "outputs": [
        {
          "name": "stdout",
          "output_type": "stream",
          "text": [
            "-- Epoch 1\n",
            "Norm: 4.81, NNZs: 6, Bias: 23.960117, T: 274, Avg. loss: 19.844464\n",
            "Total training time: 0.00 seconds.\n",
            "-- Epoch 2\n",
            "Norm: 4.94, NNZs: 6, Bias: 23.008176, T: 548, Avg. loss: 7.153614\n",
            "Total training time: 0.00 seconds.\n",
            "-- Epoch 3\n",
            "Norm: 5.37, NNZs: 6, Bias: 23.811600, T: 822, Avg. loss: 6.926079\n",
            "Total training time: 0.00 seconds.\n",
            "-- Epoch 4\n",
            "Norm: 5.44, NNZs: 6, Bias: 23.428805, T: 1096, Avg. loss: 6.688776\n",
            "Total training time: 0.00 seconds.\n",
            "-- Epoch 5\n",
            "Norm: 5.73, NNZs: 6, Bias: 23.332962, T: 1370, Avg. loss: 6.576115\n",
            "Total training time: 0.00 seconds.\n",
            "-- Epoch 6\n",
            "Norm: 5.75, NNZs: 6, Bias: 23.119769, T: 1644, Avg. loss: 6.562462\n",
            "Total training time: 0.00 seconds.\n",
            "-- Epoch 7\n",
            "Norm: 6.05, NNZs: 6, Bias: 23.306260, T: 1918, Avg. loss: 6.723376\n",
            "Total training time: 0.00 seconds.\n",
            "-- Epoch 8\n",
            "Norm: 6.41, NNZs: 6, Bias: 23.342551, T: 2192, Avg. loss: 6.671885\n",
            "Total training time: 0.00 seconds.\n",
            "-- Epoch 9\n",
            "Norm: 6.30, NNZs: 6, Bias: 23.431840, T: 2466, Avg. loss: 6.657573\n",
            "Total training time: 0.01 seconds.\n",
            "-- Epoch 10\n",
            "Norm: 6.28, NNZs: 6, Bias: 23.494647, T: 2740, Avg. loss: 6.596579\n",
            "Total training time: 0.01 seconds.\n",
            "-- Epoch 11\n",
            "Norm: 6.36, NNZs: 6, Bias: 23.587335, T: 3014, Avg. loss: 6.650351\n",
            "Total training time: 0.01 seconds.\n",
            "Convergence after 11 epochs took 0.01 seconds\n"
          ]
        }
      ],
      "source": [
        "model_2 = sgdr_2.fit(X_treino, y_treino)"
      ]
    },
    {
      "cell_type": "code",
      "execution_count": null,
      "metadata": {
        "id": "0j4kC6Xe_pnm",
        "outputId": "ae191722-2015-435d-8084-f8f754296e47"
      },
      "outputs": [
        {
          "data": {
            "text/plain": [
              "80.33303275383406"
            ]
          },
          "execution_count": 20,
          "metadata": {},
          "output_type": "execute_result"
        }
      ],
      "source": [
        "# Avalia o quão bom/mal foi o aprendizado\n",
        "model_2.score(X_scale, y)*100"
      ]
    },
    {
      "cell_type": "markdown",
      "metadata": {
        "id": "mZY2prFa_pnm"
      },
      "source": [
        "#### Menor taxa de perda na epóca 18, com 6,55.\n",
        "#### Houve uma na rodada pois o algoritmo rodou menos epócas para aprender."
      ]
    },
    {
      "cell_type": "markdown",
      "metadata": {
        "id": "RxeQn05R_pnm"
      },
      "source": [
        "### modelo 3: alteração na norma de regularização (alpha de 0.0001 para 0.001)"
      ]
    },
    {
      "cell_type": "code",
      "execution_count": null,
      "metadata": {
        "id": "UezqNJB1_pnm"
      },
      "outputs": [],
      "source": [
        "sgdr_3 = SGDRegressor(alpha = 0.001, verbose = 1)"
      ]
    },
    {
      "cell_type": "code",
      "execution_count": null,
      "metadata": {
        "id": "FC6Y4Pkm_pnn",
        "outputId": "f8e90b2c-e4fc-4bca-c403-8738edca36bb"
      },
      "outputs": [
        {
          "name": "stdout",
          "output_type": "stream",
          "text": [
            "-- Epoch 1\n",
            "Norm: 3.94, NNZs: 6, Bias: 13.892241, T: 274, Avg. loss: 126.019546\n",
            "Total training time: 0.00 seconds.\n",
            "-- Epoch 2\n",
            "Norm: 3.47, NNZs: 6, Bias: 18.308945, T: 548, Avg. loss: 34.426353\n",
            "Total training time: 0.00 seconds.\n",
            "-- Epoch 3\n",
            "Norm: 3.80, NNZs: 6, Bias: 20.485937, T: 822, Avg. loss: 15.783648\n",
            "Total training time: 0.00 seconds.\n",
            "-- Epoch 4\n",
            "Norm: 3.83, NNZs: 6, Bias: 21.701859, T: 1096, Avg. loss: 10.119514\n",
            "Total training time: 0.00 seconds.\n",
            "-- Epoch 5\n",
            "Norm: 3.91, NNZs: 6, Bias: 22.381081, T: 1370, Avg. loss: 8.145314\n",
            "Total training time: 0.00 seconds.\n",
            "-- Epoch 6\n",
            "Norm: 3.93, NNZs: 6, Bias: 22.790855, T: 1644, Avg. loss: 7.384256\n",
            "Total training time: 0.00 seconds.\n",
            "-- Epoch 7\n",
            "Norm: 4.03, NNZs: 6, Bias: 23.064679, T: 1918, Avg. loss: 7.062928\n",
            "Total training time: 0.00 seconds.\n",
            "-- Epoch 8\n",
            "Norm: 4.09, NNZs: 6, Bias: 23.224583, T: 2192, Avg. loss: 6.881085\n",
            "Total training time: 0.00 seconds.\n",
            "-- Epoch 9\n",
            "Norm: 4.15, NNZs: 6, Bias: 23.339873, T: 2466, Avg. loss: 6.795131\n",
            "Total training time: 0.00 seconds.\n",
            "-- Epoch 10\n",
            "Norm: 4.16, NNZs: 6, Bias: 23.400694, T: 2740, Avg. loss: 6.728517\n",
            "Total training time: 0.00 seconds.\n",
            "-- Epoch 11\n",
            "Norm: 4.23, NNZs: 6, Bias: 23.450482, T: 3014, Avg. loss: 6.688951\n",
            "Total training time: 0.01 seconds.\n",
            "-- Epoch 12\n",
            "Norm: 4.27, NNZs: 6, Bias: 23.473804, T: 3288, Avg. loss: 6.644740\n",
            "Total training time: 0.01 seconds.\n",
            "-- Epoch 13\n",
            "Norm: 4.33, NNZs: 6, Bias: 23.501719, T: 3562, Avg. loss: 6.609281\n",
            "Total training time: 0.01 seconds.\n",
            "-- Epoch 14\n",
            "Norm: 4.35, NNZs: 6, Bias: 23.513203, T: 3836, Avg. loss: 6.591331\n",
            "Total training time: 0.01 seconds.\n",
            "-- Epoch 15\n",
            "Norm: 4.40, NNZs: 6, Bias: 23.527260, T: 4110, Avg. loss: 6.566556\n",
            "Total training time: 0.01 seconds.\n",
            "-- Epoch 16\n",
            "Norm: 4.43, NNZs: 6, Bias: 23.540568, T: 4384, Avg. loss: 6.546062\n",
            "Total training time: 0.01 seconds.\n",
            "-- Epoch 17\n",
            "Norm: 4.40, NNZs: 6, Bias: 23.541630, T: 4658, Avg. loss: 6.481890\n",
            "Total training time: 0.01 seconds.\n",
            "-- Epoch 18\n",
            "Norm: 4.47, NNZs: 6, Bias: 23.543409, T: 4932, Avg. loss: 6.500652\n",
            "Total training time: 0.01 seconds.\n",
            "-- Epoch 19\n",
            "Norm: 4.53, NNZs: 6, Bias: 23.544521, T: 5206, Avg. loss: 6.487658\n",
            "Total training time: 0.01 seconds.\n",
            "-- Epoch 20\n",
            "Norm: 4.57, NNZs: 6, Bias: 23.542041, T: 5480, Avg. loss: 6.470320\n",
            "Total training time: 0.01 seconds.\n",
            "-- Epoch 21\n",
            "Norm: 4.58, NNZs: 6, Bias: 23.544290, T: 5754, Avg. loss: 6.452736\n",
            "Total training time: 0.01 seconds.\n",
            "-- Epoch 22\n",
            "Norm: 4.66, NNZs: 6, Bias: 23.543608, T: 6028, Avg. loss: 6.437515\n",
            "Total training time: 0.01 seconds.\n",
            "-- Epoch 23\n",
            "Norm: 4.68, NNZs: 6, Bias: 23.551650, T: 6302, Avg. loss: 6.431614\n",
            "Total training time: 0.01 seconds.\n",
            "-- Epoch 24\n",
            "Norm: 4.68, NNZs: 6, Bias: 23.552958, T: 6576, Avg. loss: 6.414007\n",
            "Total training time: 0.01 seconds.\n",
            "-- Epoch 25\n",
            "Norm: 4.70, NNZs: 6, Bias: 23.554358, T: 6850, Avg. loss: 6.404740\n",
            "Total training time: 0.01 seconds.\n",
            "-- Epoch 26\n",
            "Norm: 4.81, NNZs: 6, Bias: 23.558915, T: 7124, Avg. loss: 6.371896\n",
            "Total training time: 0.01 seconds.\n",
            "-- Epoch 27\n",
            "Norm: 4.84, NNZs: 6, Bias: 23.572192, T: 7398, Avg. loss: 6.386315\n",
            "Total training time: 0.01 seconds.\n",
            "-- Epoch 28\n",
            "Norm: 4.82, NNZs: 6, Bias: 23.576947, T: 7672, Avg. loss: 6.382005\n",
            "Total training time: 0.01 seconds.\n",
            "-- Epoch 29\n",
            "Norm: 4.79, NNZs: 6, Bias: 23.562284, T: 7946, Avg. loss: 6.344214\n",
            "Total training time: 0.01 seconds.\n",
            "-- Epoch 30\n",
            "Norm: 4.87, NNZs: 6, Bias: 23.574971, T: 8220, Avg. loss: 6.360252\n",
            "Total training time: 0.01 seconds.\n",
            "-- Epoch 31\n",
            "Norm: 4.87, NNZs: 6, Bias: 23.571405, T: 8494, Avg. loss: 6.351320\n",
            "Total training time: 0.01 seconds.\n",
            "-- Epoch 32\n",
            "Norm: 4.92, NNZs: 6, Bias: 23.575970, T: 8768, Avg. loss: 6.347978\n",
            "Total training time: 0.01 seconds.\n",
            "-- Epoch 33\n",
            "Norm: 4.93, NNZs: 6, Bias: 23.575855, T: 9042, Avg. loss: 6.333177\n",
            "Total training time: 0.01 seconds.\n",
            "-- Epoch 34\n",
            "Norm: 4.99, NNZs: 6, Bias: 23.574222, T: 9316, Avg. loss: 6.325153\n",
            "Total training time: 0.01 seconds.\n",
            "-- Epoch 35\n",
            "Norm: 5.01, NNZs: 6, Bias: 23.577230, T: 9590, Avg. loss: 6.326695\n",
            "Total training time: 0.01 seconds.\n",
            "-- Epoch 36\n",
            "Norm: 5.04, NNZs: 6, Bias: 23.585296, T: 9864, Avg. loss: 6.316611\n",
            "Total training time: 0.01 seconds.\n",
            "-- Epoch 37\n",
            "Norm: 5.04, NNZs: 6, Bias: 23.577671, T: 10138, Avg. loss: 6.313857\n",
            "Total training time: 0.01 seconds.\n",
            "-- Epoch 38\n",
            "Norm: 5.05, NNZs: 6, Bias: 23.574251, T: 10412, Avg. loss: 6.308876\n",
            "Total training time: 0.01 seconds.\n",
            "-- Epoch 39\n",
            "Norm: 5.08, NNZs: 6, Bias: 23.569415, T: 10686, Avg. loss: 6.305942\n",
            "Total training time: 0.01 seconds.\n",
            "-- Epoch 40\n",
            "Norm: 5.10, NNZs: 6, Bias: 23.565234, T: 10960, Avg. loss: 6.299654\n",
            "Total training time: 0.01 seconds.\n",
            "-- Epoch 41\n",
            "Norm: 5.11, NNZs: 6, Bias: 23.568149, T: 11234, Avg. loss: 6.295454\n",
            "Total training time: 0.01 seconds.\n",
            "-- Epoch 42\n",
            "Norm: 5.14, NNZs: 6, Bias: 23.569975, T: 11508, Avg. loss: 6.290125\n",
            "Total training time: 0.01 seconds.\n",
            "-- Epoch 43\n",
            "Norm: 5.15, NNZs: 6, Bias: 23.569137, T: 11782, Avg. loss: 6.286054\n",
            "Total training time: 0.01 seconds.\n",
            "-- Epoch 44\n",
            "Norm: 5.18, NNZs: 6, Bias: 23.571009, T: 12056, Avg. loss: 6.281292\n",
            "Total training time: 0.01 seconds.\n",
            "-- Epoch 45\n",
            "Norm: 5.17, NNZs: 6, Bias: 23.570038, T: 12330, Avg. loss: 6.267926\n",
            "Total training time: 0.01 seconds.\n",
            "-- Epoch 46\n",
            "Norm: 5.18, NNZs: 6, Bias: 23.568325, T: 12604, Avg. loss: 6.272878\n",
            "Total training time: 0.01 seconds.\n",
            "-- Epoch 47\n",
            "Norm: 5.22, NNZs: 6, Bias: 23.568107, T: 12878, Avg. loss: 6.275722\n",
            "Total training time: 0.01 seconds.\n",
            "-- Epoch 48\n",
            "Norm: 5.24, NNZs: 6, Bias: 23.567618, T: 13152, Avg. loss: 6.267550\n",
            "Total training time: 0.01 seconds.\n",
            "-- Epoch 49\n",
            "Norm: 5.25, NNZs: 6, Bias: 23.561984, T: 13426, Avg. loss: 6.260382\n",
            "Total training time: 0.01 seconds.\n",
            "-- Epoch 50\n",
            "Norm: 5.30, NNZs: 6, Bias: 23.564355, T: 13700, Avg. loss: 6.258448\n",
            "Total training time: 0.01 seconds.\n",
            "-- Epoch 51\n",
            "Norm: 5.31, NNZs: 6, Bias: 23.563084, T: 13974, Avg. loss: 6.259574\n",
            "Total training time: 0.01 seconds.\n",
            "-- Epoch 52\n",
            "Norm: 5.32, NNZs: 6, Bias: 23.568092, T: 14248, Avg. loss: 6.254815\n",
            "Total training time: 0.01 seconds.\n",
            "-- Epoch 53\n",
            "Norm: 5.34, NNZs: 6, Bias: 23.561639, T: 14522, Avg. loss: 6.252455\n",
            "Total training time: 0.01 seconds.\n",
            "-- Epoch 54\n",
            "Norm: 5.38, NNZs: 6, Bias: 23.564786, T: 14796, Avg. loss: 6.240728\n",
            "Total training time: 0.01 seconds.\n",
            "-- Epoch 55\n",
            "Norm: 5.40, NNZs: 6, Bias: 23.566489, T: 15070, Avg. loss: 6.247266\n",
            "Total training time: 0.01 seconds.\n",
            "-- Epoch 56\n",
            "Norm: 5.39, NNZs: 6, Bias: 23.563745, T: 15344, Avg. loss: 6.246454\n",
            "Total training time: 0.01 seconds.\n",
            "-- Epoch 57\n",
            "Norm: 5.42, NNZs: 6, Bias: 23.561847, T: 15618, Avg. loss: 6.233853\n",
            "Total training time: 0.01 seconds.\n",
            "-- Epoch 58\n",
            "Norm: 5.42, NNZs: 6, Bias: 23.566024, T: 15892, Avg. loss: 6.241184\n",
            "Total training time: 0.01 seconds.\n",
            "-- Epoch 59\n",
            "Norm: 5.43, NNZs: 6, Bias: 23.569696, T: 16166, Avg. loss: 6.238816\n",
            "Total training time: 0.01 seconds.\n",
            "-- Epoch 60\n",
            "Norm: 5.43, NNZs: 6, Bias: 23.567039, T: 16440, Avg. loss: 6.233453\n",
            "Total training time: 0.01 seconds.\n",
            "-- Epoch 61\n",
            "Norm: 5.46, NNZs: 6, Bias: 23.564868, T: 16714, Avg. loss: 6.230211\n",
            "Total training time: 0.01 seconds.\n",
            "-- Epoch 62\n",
            "Norm: 5.46, NNZs: 6, Bias: 23.561013, T: 16988, Avg. loss: 6.229420\n",
            "Total training time: 0.01 seconds.\n",
            "-- Epoch 63\n",
            "Norm: 5.49, NNZs: 6, Bias: 23.565407, T: 17262, Avg. loss: 6.230440\n",
            "Total training time: 0.01 seconds.\n",
            "-- Epoch 64\n",
            "Norm: 5.49, NNZs: 6, Bias: 23.566103, T: 17536, Avg. loss: 6.228293\n",
            "Total training time: 0.01 seconds.\n",
            "-- Epoch 65\n",
            "Norm: 5.50, NNZs: 6, Bias: 23.565172, T: 17810, Avg. loss: 6.225655\n",
            "Total training time: 0.01 seconds.\n",
            "-- Epoch 66\n",
            "Norm: 5.52, NNZs: 6, Bias: 23.565586, T: 18084, Avg. loss: 6.221226\n",
            "Total training time: 0.01 seconds.\n",
            "-- Epoch 67\n",
            "Norm: 5.53, NNZs: 6, Bias: 23.567151, T: 18358, Avg. loss: 6.220835\n",
            "Total training time: 0.01 seconds.\n",
            "-- Epoch 68\n",
            "Norm: 5.55, NNZs: 6, Bias: 23.567579, T: 18632, Avg. loss: 6.221459\n",
            "Total training time: 0.01 seconds.\n",
            "-- Epoch 69\n",
            "Norm: 5.56, NNZs: 6, Bias: 23.568584, T: 18906, Avg. loss: 6.218689\n",
            "Total training time: 0.01 seconds.\n",
            "-- Epoch 70\n",
            "Norm: 5.56, NNZs: 6, Bias: 23.562946, T: 19180, Avg. loss: 6.213142\n",
            "Total training time: 0.01 seconds.\n",
            "-- Epoch 71\n",
            "Norm: 5.57, NNZs: 6, Bias: 23.560136, T: 19454, Avg. loss: 6.214800\n",
            "Total training time: 0.01 seconds.\n",
            "-- Epoch 72\n",
            "Norm: 5.58, NNZs: 6, Bias: 23.563646, T: 19728, Avg. loss: 6.212890\n",
            "Total training time: 0.01 seconds.\n",
            "-- Epoch 73\n",
            "Norm: 5.58, NNZs: 6, Bias: 23.561085, T: 20002, Avg. loss: 6.209220\n",
            "Total training time: 0.01 seconds.\n",
            "-- Epoch 74\n",
            "Norm: 5.60, NNZs: 6, Bias: 23.565255, T: 20276, Avg. loss: 6.214107\n",
            "Total training time: 0.01 seconds.\n",
            "-- Epoch 75\n",
            "Norm: 5.62, NNZs: 6, Bias: 23.569104, T: 20550, Avg. loss: 6.210706\n",
            "Total training time: 0.01 seconds.\n",
            "-- Epoch 76\n",
            "Norm: 5.63, NNZs: 6, Bias: 23.572480, T: 20824, Avg. loss: 6.209223\n",
            "Total training time: 0.01 seconds.\n",
            "-- Epoch 77\n",
            "Norm: 5.63, NNZs: 6, Bias: 23.570667, T: 21098, Avg. loss: 6.205203\n",
            "Total training time: 0.01 seconds.\n",
            "-- Epoch 78\n",
            "Norm: 5.64, NNZs: 6, Bias: 23.565644, T: 21372, Avg. loss: 6.205587\n",
            "Total training time: 0.01 seconds.\n",
            "-- Epoch 79\n",
            "Norm: 5.65, NNZs: 6, Bias: 23.565602, T: 21646, Avg. loss: 6.205210\n",
            "Total training time: 0.01 seconds.\n",
            "-- Epoch 80\n",
            "Norm: 5.66, NNZs: 6, Bias: 23.568070, T: 21920, Avg. loss: 6.203868\n",
            "Total training time: 0.01 seconds.\n",
            "-- Epoch 81\n",
            "Norm: 5.68, NNZs: 6, Bias: 23.568729, T: 22194, Avg. loss: 6.201220\n",
            "Total training time: 0.01 seconds.\n",
            "-- Epoch 82\n",
            "Norm: 5.69, NNZs: 6, Bias: 23.565915, T: 22468, Avg. loss: 6.202550\n",
            "Total training time: 0.01 seconds.\n",
            "-- Epoch 83\n",
            "Norm: 5.70, NNZs: 6, Bias: 23.564141, T: 22742, Avg. loss: 6.200399\n",
            "Total training time: 0.01 seconds.\n",
            "-- Epoch 84\n",
            "Norm: 5.72, NNZs: 6, Bias: 23.570317, T: 23016, Avg. loss: 6.197317\n",
            "Total training time: 0.01 seconds.\n",
            "-- Epoch 85\n",
            "Norm: 5.73, NNZs: 6, Bias: 23.571380, T: 23290, Avg. loss: 6.199013\n",
            "Total training time: 0.01 seconds.\n",
            "-- Epoch 86\n",
            "Norm: 5.71, NNZs: 6, Bias: 23.568502, T: 23564, Avg. loss: 6.190053\n",
            "Total training time: 0.01 seconds.\n",
            "-- Epoch 87\n",
            "Norm: 5.74, NNZs: 6, Bias: 23.572898, T: 23838, Avg. loss: 6.197107\n",
            "Total training time: 0.01 seconds.\n",
            "-- Epoch 88\n",
            "Norm: 5.75, NNZs: 6, Bias: 23.566372, T: 24112, Avg. loss: 6.195252\n",
            "Total training time: 0.01 seconds.\n",
            "-- Epoch 89\n",
            "Norm: 5.78, NNZs: 6, Bias: 23.567054, T: 24386, Avg. loss: 6.179638\n",
            "Total training time: 0.01 seconds.\n",
            "-- Epoch 90\n",
            "Norm: 5.78, NNZs: 6, Bias: 23.564641, T: 24660, Avg. loss: 6.195997\n",
            "Total training time: 0.01 seconds.\n",
            "-- Epoch 91\n",
            "Norm: 5.77, NNZs: 6, Bias: 23.564193, T: 24934, Avg. loss: 6.190954\n",
            "Total training time: 0.01 seconds.\n",
            "-- Epoch 92\n",
            "Norm: 5.77, NNZs: 6, Bias: 23.562130, T: 25208, Avg. loss: 6.190584\n",
            "Total training time: 0.01 seconds.\n",
            "-- Epoch 93\n",
            "Norm: 5.80, NNZs: 6, Bias: 23.563231, T: 25482, Avg. loss: 6.184579\n",
            "Total training time: 0.01 seconds.\n",
            "-- Epoch 94\n",
            "Norm: 5.80, NNZs: 6, Bias: 23.564740, T: 25756, Avg. loss: 6.191852\n",
            "Total training time: 0.01 seconds.\n",
            "Convergence after 94 epochs took 0.01 seconds\n"
          ]
        }
      ],
      "source": [
        "model_3 = sgdr_3.fit(X_treino, y_treino)"
      ]
    },
    {
      "cell_type": "code",
      "execution_count": null,
      "metadata": {
        "id": "K2L6Y2_M_pnn",
        "outputId": "f30fb863-b274-4f36-ea34-ac4038b9f342"
      },
      "outputs": [
        {
          "data": {
            "text/plain": [
              "80.56727986339902"
            ]
          },
          "execution_count": 23,
          "metadata": {},
          "output_type": "execute_result"
        }
      ],
      "source": [
        "# Avalia o quão bom/mal foi o aprendizado\n",
        "model_3.score(X_scale, y)*100"
      ]
    },
    {
      "cell_type": "markdown",
      "metadata": {
        "id": "S_9P5NIv_pnn"
      },
      "source": [
        "#### Menor taxa de perda na epóca 54, com 6,24."
      ]
    },
    {
      "cell_type": "markdown",
      "metadata": {
        "id": "mDqd1dbo_pnn"
      },
      "source": [
        "### Vamos unificar o melhor dos três modelos"
      ]
    },
    {
      "cell_type": "code",
      "execution_count": null,
      "metadata": {
        "id": "akO7-fFP_pnn"
      },
      "outputs": [],
      "source": [
        "sgdr_4 = SGDRegressor(penalty = 'L1', eta0 = 0.01,  alpha = 0.001, verbose = 1)"
      ]
    },
    {
      "cell_type": "code",
      "execution_count": null,
      "metadata": {
        "id": "ePFlP6UD_pnn",
        "outputId": "b799fcd0-2f61-47d9-9d1f-3e3363d4427c"
      },
      "outputs": [
        {
          "name": "stdout",
          "output_type": "stream",
          "text": [
            "-- Epoch 1\n",
            "Norm: 3.73, NNZs: 6, Bias: 13.988723, T: 274, Avg. loss: 125.219036\n",
            "Total training time: 0.00 seconds.\n",
            "-- Epoch 2\n",
            "Norm: 3.71, NNZs: 6, Bias: 18.381857, T: 548, Avg. loss: 34.022353\n",
            "Total training time: 0.00 seconds.\n",
            "-- Epoch 3\n",
            "Norm: 3.61, NNZs: 6, Bias: 20.526727, T: 822, Avg. loss: 15.358980\n",
            "Total training time: 0.00 seconds.\n",
            "-- Epoch 4\n",
            "Norm: 3.87, NNZs: 6, Bias: 21.709819, T: 1096, Avg. loss: 9.941667\n",
            "Total training time: 0.00 seconds.\n",
            "-- Epoch 5\n",
            "Norm: 4.08, NNZs: 6, Bias: 22.370885, T: 1370, Avg. loss: 7.977441\n",
            "Total training time: 0.00 seconds.\n",
            "-- Epoch 6\n",
            "Norm: 4.12, NNZs: 6, Bias: 22.814590, T: 1644, Avg. loss: 7.277411\n",
            "Total training time: 0.01 seconds.\n",
            "-- Epoch 7\n",
            "Norm: 4.14, NNZs: 6, Bias: 23.058534, T: 1918, Avg. loss: 6.939579\n",
            "Total training time: 0.01 seconds.\n",
            "-- Epoch 8\n",
            "Norm: 4.17, NNZs: 6, Bias: 23.225699, T: 2192, Avg. loss: 6.787192\n",
            "Total training time: 0.01 seconds.\n",
            "-- Epoch 9\n",
            "Norm: 4.24, NNZs: 6, Bias: 23.331635, T: 2466, Avg. loss: 6.705018\n",
            "Total training time: 0.01 seconds.\n",
            "-- Epoch 10\n",
            "Norm: 4.26, NNZs: 6, Bias: 23.401712, T: 2740, Avg. loss: 6.643200\n",
            "Total training time: 0.01 seconds.\n",
            "-- Epoch 11\n",
            "Norm: 4.32, NNZs: 6, Bias: 23.448710, T: 3014, Avg. loss: 6.605210\n",
            "Total training time: 0.01 seconds.\n",
            "-- Epoch 12\n",
            "Norm: 4.39, NNZs: 6, Bias: 23.498631, T: 3288, Avg. loss: 6.575338\n",
            "Total training time: 0.01 seconds.\n",
            "-- Epoch 13\n",
            "Norm: 4.43, NNZs: 6, Bias: 23.509221, T: 3562, Avg. loss: 6.551760\n",
            "Total training time: 0.01 seconds.\n",
            "-- Epoch 14\n",
            "Norm: 4.51, NNZs: 6, Bias: 23.520184, T: 3836, Avg. loss: 6.519649\n",
            "Total training time: 0.01 seconds.\n",
            "-- Epoch 15\n",
            "Norm: 4.51, NNZs: 6, Bias: 23.532382, T: 4110, Avg. loss: 6.511352\n",
            "Total training time: 0.01 seconds.\n",
            "-- Epoch 16\n",
            "Norm: 4.52, NNZs: 6, Bias: 23.541345, T: 4384, Avg. loss: 6.488688\n",
            "Total training time: 0.01 seconds.\n",
            "-- Epoch 17\n",
            "Norm: 4.60, NNZs: 6, Bias: 23.552852, T: 4658, Avg. loss: 6.469502\n",
            "Total training time: 0.01 seconds.\n",
            "-- Epoch 18\n",
            "Norm: 4.58, NNZs: 6, Bias: 23.557195, T: 4932, Avg. loss: 6.447222\n",
            "Total training time: 0.01 seconds.\n",
            "-- Epoch 19\n",
            "Norm: 4.61, NNZs: 6, Bias: 23.566236, T: 5206, Avg. loss: 6.443684\n",
            "Total training time: 0.01 seconds.\n",
            "-- Epoch 20\n",
            "Norm: 4.72, NNZs: 6, Bias: 23.578618, T: 5480, Avg. loss: 6.414124\n",
            "Total training time: 0.01 seconds.\n",
            "-- Epoch 21\n",
            "Norm: 4.70, NNZs: 6, Bias: 23.574321, T: 5754, Avg. loss: 6.419959\n",
            "Total training time: 0.01 seconds.\n",
            "-- Epoch 22\n",
            "Norm: 4.75, NNZs: 6, Bias: 23.564924, T: 6028, Avg. loss: 6.407908\n",
            "Total training time: 0.01 seconds.\n",
            "-- Epoch 23\n",
            "Norm: 4.78, NNZs: 6, Bias: 23.562156, T: 6302, Avg. loss: 6.398837\n",
            "Total training time: 0.01 seconds.\n",
            "-- Epoch 24\n",
            "Norm: 4.79, NNZs: 6, Bias: 23.561805, T: 6576, Avg. loss: 6.387466\n",
            "Total training time: 0.01 seconds.\n",
            "-- Epoch 25\n",
            "Norm: 4.84, NNZs: 6, Bias: 23.564385, T: 6850, Avg. loss: 6.379471\n",
            "Total training time: 0.01 seconds.\n",
            "-- Epoch 26\n",
            "Norm: 4.86, NNZs: 6, Bias: 23.571230, T: 7124, Avg. loss: 6.367759\n",
            "Total training time: 0.01 seconds.\n",
            "-- Epoch 27\n",
            "Norm: 4.87, NNZs: 6, Bias: 23.571432, T: 7398, Avg. loss: 6.360596\n",
            "Total training time: 0.01 seconds.\n",
            "-- Epoch 28\n",
            "Norm: 4.94, NNZs: 6, Bias: 23.575420, T: 7672, Avg. loss: 6.341595\n",
            "Total training time: 0.01 seconds.\n",
            "-- Epoch 29\n",
            "Norm: 4.93, NNZs: 6, Bias: 23.569854, T: 7946, Avg. loss: 6.337297\n",
            "Total training time: 0.01 seconds.\n",
            "-- Epoch 30\n",
            "Norm: 4.95, NNZs: 6, Bias: 23.567873, T: 8220, Avg. loss: 6.333829\n",
            "Total training time: 0.01 seconds.\n",
            "-- Epoch 31\n",
            "Norm: 4.97, NNZs: 6, Bias: 23.567932, T: 8494, Avg. loss: 6.332627\n",
            "Total training time: 0.01 seconds.\n",
            "-- Epoch 32\n",
            "Norm: 5.00, NNZs: 6, Bias: 23.562648, T: 8768, Avg. loss: 6.327589\n",
            "Total training time: 0.01 seconds.\n",
            "-- Epoch 33\n",
            "Norm: 5.03, NNZs: 6, Bias: 23.568956, T: 9042, Avg. loss: 6.316252\n",
            "Total training time: 0.01 seconds.\n",
            "-- Epoch 34\n",
            "Norm: 5.08, NNZs: 5, Bias: 23.578956, T: 9316, Avg. loss: 6.305425\n",
            "Total training time: 0.01 seconds.\n",
            "-- Epoch 35\n",
            "Norm: 5.08, NNZs: 5, Bias: 23.569981, T: 9590, Avg. loss: 6.302006\n",
            "Total training time: 0.01 seconds.\n",
            "-- Epoch 36\n",
            "Norm: 5.09, NNZs: 5, Bias: 23.569253, T: 9864, Avg. loss: 6.294447\n",
            "Total training time: 0.01 seconds.\n",
            "-- Epoch 37\n",
            "Norm: 5.13, NNZs: 5, Bias: 23.573195, T: 10138, Avg. loss: 6.294660\n",
            "Total training time: 0.01 seconds.\n",
            "-- Epoch 38\n",
            "Norm: 5.15, NNZs: 6, Bias: 23.575991, T: 10412, Avg. loss: 6.289391\n",
            "Total training time: 0.01 seconds.\n",
            "-- Epoch 39\n",
            "Norm: 5.17, NNZs: 6, Bias: 23.574808, T: 10686, Avg. loss: 6.284897\n",
            "Total training time: 0.01 seconds.\n",
            "-- Epoch 40\n",
            "Norm: 5.21, NNZs: 6, Bias: 23.574651, T: 10960, Avg. loss: 6.283888\n",
            "Total training time: 0.01 seconds.\n",
            "-- Epoch 41\n",
            "Norm: 5.22, NNZs: 6, Bias: 23.574795, T: 11234, Avg. loss: 6.282852\n",
            "Total training time: 0.01 seconds.\n",
            "-- Epoch 42\n",
            "Norm: 5.24, NNZs: 6, Bias: 23.576249, T: 11508, Avg. loss: 6.278368\n",
            "Total training time: 0.01 seconds.\n",
            "-- Epoch 43\n",
            "Norm: 5.27, NNZs: 6, Bias: 23.565519, T: 11782, Avg. loss: 6.271349\n",
            "Total training time: 0.01 seconds.\n",
            "-- Epoch 44\n",
            "Norm: 5.26, NNZs: 6, Bias: 23.562137, T: 12056, Avg. loss: 6.262956\n",
            "Total training time: 0.01 seconds.\n",
            "-- Epoch 45\n",
            "Norm: 5.31, NNZs: 6, Bias: 23.571104, T: 12330, Avg. loss: 6.253096\n",
            "Total training time: 0.01 seconds.\n",
            "-- Epoch 46\n",
            "Norm: 5.32, NNZs: 6, Bias: 23.565122, T: 12604, Avg. loss: 6.260122\n",
            "Total training time: 0.01 seconds.\n",
            "-- Epoch 47\n",
            "Norm: 5.33, NNZs: 6, Bias: 23.562924, T: 12878, Avg. loss: 6.261659\n",
            "Total training time: 0.01 seconds.\n",
            "-- Epoch 48\n",
            "Norm: 5.36, NNZs: 6, Bias: 23.561514, T: 13152, Avg. loss: 6.256362\n",
            "Total training time: 0.01 seconds.\n",
            "-- Epoch 49\n",
            "Norm: 5.38, NNZs: 6, Bias: 23.567178, T: 13426, Avg. loss: 6.253577\n",
            "Total training time: 0.01 seconds.\n",
            "-- Epoch 50\n",
            "Norm: 5.39, NNZs: 6, Bias: 23.566677, T: 13700, Avg. loss: 6.252317\n",
            "Total training time: 0.01 seconds.\n",
            "Convergence after 50 epochs took 0.01 seconds\n"
          ]
        }
      ],
      "source": [
        "model_4 = sgdr_4.fit(X_treino, y_treino)"
      ]
    },
    {
      "cell_type": "code",
      "execution_count": null,
      "metadata": {
        "id": "AaTSXY8M_pno",
        "outputId": "9c3ade10-b4d5-4700-98b1-c89216ff5604"
      },
      "outputs": [
        {
          "data": {
            "text/plain": [
              "80.42735070646734"
            ]
          },
          "execution_count": 26,
          "metadata": {},
          "output_type": "execute_result"
        }
      ],
      "source": [
        "# Avalia o quão bom/mal foi o aprendizado\n",
        "model_4.score(X_scale, y)*100"
      ]
    },
    {
      "cell_type": "markdown",
      "metadata": {
        "id": "hMP3xUYe_pno"
      },
      "source": [
        "### Menor taxa de perda na epóca 83, com 6,19.\n",
        "### E uma boa taxa de acurácia: 80.58% a segunda melhor dentre os modelos.\n",
        "### Obtivemos uma taxa menor de perda, mesmo com aumento dos ciclos. Para datasets medianos, esse seja o melhor caminho a seguir e continuar testando novos valores de hiperparametros. Caso o dataset seja extremente grande, talvez devemos abrir mão para ciclos menores para poder rodar na máquina local. Ou a saída seria trabalhar com hadoop/spark."
      ]
    },
    {
      "cell_type": "markdown",
      "metadata": {
        "id": "iRMeiuq-_pno"
      },
      "source": [
        "### Predição"
      ]
    },
    {
      "cell_type": "code",
      "execution_count": null,
      "metadata": {
        "id": "jxCvlR-S_pno",
        "outputId": "c8523893-44dd-4dbd-e6f1-d441bf676e09"
      },
      "outputs": [
        {
          "data": {
            "text/html": [
              "<div>\n",
              "<style scoped>\n",
              "    .dataframe tbody tr th:only-of-type {\n",
              "        vertical-align: middle;\n",
              "    }\n",
              "\n",
              "    .dataframe tbody tr th {\n",
              "        vertical-align: top;\n",
              "    }\n",
              "\n",
              "    .dataframe thead th {\n",
              "        text-align: right;\n",
              "    }\n",
              "</style>\n",
              "<table border=\"1\" class=\"dataframe\">\n",
              "  <thead>\n",
              "    <tr style=\"text-align: right;\">\n",
              "      <th></th>\n",
              "      <th>predição_mpg</th>\n",
              "      <th>historico_mpg</th>\n",
              "    </tr>\n",
              "  </thead>\n",
              "  <tbody>\n",
              "    <tr>\n",
              "      <th>0</th>\n",
              "      <td>21.715365</td>\n",
              "      <td>18.0</td>\n",
              "    </tr>\n",
              "    <tr>\n",
              "      <th>1</th>\n",
              "      <td>28.701652</td>\n",
              "      <td>15.0</td>\n",
              "    </tr>\n",
              "    <tr>\n",
              "      <th>2</th>\n",
              "      <td>31.337227</td>\n",
              "      <td>18.0</td>\n",
              "    </tr>\n",
              "    <tr>\n",
              "      <th>3</th>\n",
              "      <td>25.612773</td>\n",
              "      <td>16.0</td>\n",
              "    </tr>\n",
              "    <tr>\n",
              "      <th>4</th>\n",
              "      <td>26.379970</td>\n",
              "      <td>17.0</td>\n",
              "    </tr>\n",
              "    <tr>\n",
              "      <th>...</th>\n",
              "      <td>...</td>\n",
              "      <td>...</td>\n",
              "    </tr>\n",
              "    <tr>\n",
              "      <th>113</th>\n",
              "      <td>29.602051</td>\n",
              "      <td>26.0</td>\n",
              "    </tr>\n",
              "    <tr>\n",
              "      <th>114</th>\n",
              "      <td>20.210026</td>\n",
              "      <td>15.0</td>\n",
              "    </tr>\n",
              "    <tr>\n",
              "      <th>115</th>\n",
              "      <td>17.425938</td>\n",
              "      <td>16.0</td>\n",
              "    </tr>\n",
              "    <tr>\n",
              "      <th>116</th>\n",
              "      <td>25.530044</td>\n",
              "      <td>29.0</td>\n",
              "    </tr>\n",
              "    <tr>\n",
              "      <th>117</th>\n",
              "      <td>27.125276</td>\n",
              "      <td>24.0</td>\n",
              "    </tr>\n",
              "  </tbody>\n",
              "</table>\n",
              "<p>118 rows × 2 columns</p>\n",
              "</div>"
            ],
            "text/plain": [
              "     predição_mpg  historico_mpg\n",
              "0       21.715365           18.0\n",
              "1       28.701652           15.0\n",
              "2       31.337227           18.0\n",
              "3       25.612773           16.0\n",
              "4       26.379970           17.0\n",
              "..            ...            ...\n",
              "113     29.602051           26.0\n",
              "114     20.210026           15.0\n",
              "115     17.425938           16.0\n",
              "116     25.530044           29.0\n",
              "117     27.125276           24.0\n",
              "\n",
              "[118 rows x 2 columns]"
            ]
          },
          "execution_count": 27,
          "metadata": {},
          "output_type": "execute_result"
        }
      ],
      "source": [
        "pred_sgdr_4 = sgdr_4.predict(X_teste)\n",
        "df_comp = pd.DataFrame(data = list(zip(pred_sgdr_4, y)), columns = ['predição_mpg', 'historico_mpg']); df_comp"
      ]
    },
    {
      "cell_type": "code",
      "execution_count": null,
      "metadata": {
        "id": "tfDZPsBa_pno",
        "outputId": "06ec39aa-ff1c-4810-9b7c-6198f6690b41"
      },
      "outputs": [
        {
          "data": {
            "text/plain": [
              "<Figure size 1080x864 with 0 Axes>"
            ]
          },
          "metadata": {},
          "output_type": "display_data"
        },
        {
          "data": {
            "image/png": "[encoded data removed]",
            "text/plain": [
              "<Figure size 432x432 with 3 Axes>"
            ]
          },
          "metadata": {
            "needs_background": "light"
          },
          "output_type": "display_data"
        }
      ],
      "source": [
        "# Plotar massa de dados\n",
        "plt.figure(figsize = (15,12))\n",
        "sb.jointplot(y_teste, pred_sgdr_4, kind = 'reg')\n",
        "plt.xlabel('Valores Previstos')\n",
        "plt.ylabel('Valores Reais')\n",
        "plt.title('Relação em dados Reais e Previstos')\n",
        "plt.show()"
      ]
    },
    {
      "cell_type": "markdown",
      "metadata": {
        "id": "etIJCVtV_pno"
      },
      "source": [
        "### O gráfico acima mostra uma forte reta de regressão, o que é bom!\n",
        "## Com certeza, podemos melhorar, principalmente com a limpeza dos outliers, mas esse não era o tema desse momento!"
      ]
    },
    {
      "cell_type": "code",
      "execution_count": null,
      "metadata": {
        "id": "t9djzYgU_pnp"
      },
      "outputs": [],
      "source": [
        ""
      ]
    }
  ],
  "metadata": {
    "interpreter": {
      "hash": "ccd75a29da95b98a3c3e2f6e03a80f1223af59106eb87c3d2f2d59b9767cc6aa"
    },
    "kernelspec": {
      "display_name": "Python 3",
      "language": "python",
      "name": "python3"
    },
    "language_info": {
      "codemirror_mode": {
        "name": "ipython",
        "version": 3
      },
      "file_extension": ".py",
      "mimetype": "text/x-python",
      "name": "python",
      "nbconvert_exporter": "python",
      "pygments_lexer": "ipython3",
      "version": "3.7.6"
    },
    "colab": {
      "name": "GDS.ipynb",
      "provenance": [],
      "include_colab_link": true
    }
  },
  "nbformat": 4,
  "nbformat_minor": 0
}
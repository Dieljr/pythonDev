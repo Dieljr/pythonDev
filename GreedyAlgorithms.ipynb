{
  "nbformat": 4,
  "nbformat_minor": 0,
  "metadata": {
    "colab": {
      "name": "GreedyAlgorithms.ipynb",
      "provenance": [],
      "authorship_tag": "ABX9TyMcngVWAthM3x+cRbsui4pk",
      "include_colab_link": true
    },
    "kernelspec": {
      "name": "python3",
      "display_name": "Python 3"
    },
    "language_info": {
      "name": "python"
    }
  },
  "cells": [
    {
      "cell_type": "markdown",
      "metadata": {
        "id": "view-in-github",
        "colab_type": "text"
      },
      "source": [
        "<a href=\"https://colab.research.google.com/github/Dieljr/pythonDev/blob/master/GreedyAlgorithms.ipynb\" target=\"_parent\"><img src=\"https://colab.research.google.com/assets/colab-badge.svg\" alt=\"Open In Colab\"/></a>"
      ]
    },
    {
      "cell_type": "code",
      "execution_count": 2,
      "metadata": {
        "id": "WFFS5Y3GL57o"
      },
      "outputs": [],
      "source": [
        "# greedy algorithms 1\n",
        "# usando função do itertools\n"
      ]
    },
    {
      "cell_type": "code",
      "source": [
        "from itertools import combinations_with_replacement"
      ],
      "metadata": {
        "id": "PYyDMdH7M6WQ"
      },
      "execution_count": 6,
      "outputs": []
    },
    {
      "cell_type": "code",
      "source": [
        "# cria objeto para armazenar valor do troco\n",
        "troco = float(input(\"Qual é o troco? \"))"
      ],
      "metadata": {
        "colab": {
          "base_uri": "https://localhost:8080/"
        },
        "id": "FUB8Z583L8JA",
        "outputId": "55e479ba-6964-4323-f6b7-b25a35222985"
      },
      "execution_count": 18,
      "outputs": [
        {
          "name": "stdout",
          "output_type": "stream",
          "text": [
            "Qual é o troco? 0.8\n"
          ]
        }
      ]
    },
    {
      "cell_type": "code",
      "source": [
        "# cria objeto para armazenar as combinações desejáveis\n",
        "comb = int(input(\"Número de combinações \"))"
      ],
      "metadata": {
        "colab": {
          "base_uri": "https://localhost:8080/"
        },
        "id": "JJFoc5NbOp1P",
        "outputId": "c832cb6f-e336-44c6-9bbe-a30e71f800c2"
      },
      "execution_count": 19,
      "outputs": [
        {
          "name": "stdout",
          "output_type": "stream",
          "text": [
            "Número de combinações 3\n"
          ]
        }
      ]
    },
    {
      "cell_type": "code",
      "source": [
        "# cria opções de moedas para troco\n",
        "moedas = [0.01, 0.05, 0.10, 0.25, 0.50, 1.0]"
      ],
      "metadata": {
        "id": "rfR27UyJMc_h"
      },
      "execution_count": 20,
      "outputs": []
    },
    {
      "cell_type": "code",
      "source": [
        "# cria loop for para escolher as alternativas, mas mostra em primeiro lugar a melhor alternativa dado o número de combinações\n",
        "for i in (comb, len(moedas)):\n",
        "  for j in combinations_with_replacement(moedas, i):\n",
        "    if sum(j) == troco:\n",
        "      print(j)\n",
        "print('A melhor alternativa para', comb, ' combinações é a primeira linha!')"
      ],
      "metadata": {
        "colab": {
          "base_uri": "https://localhost:8080/"
        },
        "id": "4HLwHjSiMuq6",
        "outputId": "d3bf8020-bd73-4d08-9742-293a192ea823"
      },
      "execution_count": 22,
      "outputs": [
        {
          "output_type": "stream",
          "name": "stdout",
          "text": [
            "(0.05, 0.25, 0.5)\n",
            "(0.05, 0.05, 0.05, 0.05, 0.1, 0.5)\n",
            "(0.05, 0.05, 0.1, 0.1, 0.25, 0.25)\n",
            "A melhor alternativa para 3  combinações é a primeira linha!\n"
          ]
        }
      ]
    },
    {
      "cell_type": "code",
      "source": [
        ""
      ],
      "metadata": {
        "id": "M2idmN3xNou-"
      },
      "execution_count": null,
      "outputs": []
    }
  ]
}